{
 "cells": [
  {
   "cell_type": "code",
   "execution_count": null,
   "id": "3a485d37",
   "metadata": {},
   "outputs": [
    {
     "name": "stderr",
     "output_type": "stream",
     "text": [
      "\n",
      "NOTE: Using experimental fast data loading logic. To disable, pass\n",
      "    \"--load_fast=false\" and report issues on GitHub. More details:\n",
      "    https://github.com/tensorflow/tensorboard/issues/4784\n",
      "\n",
      "2023-09-08 13:26:53.919679: I tensorflow/core/platform/cpu_feature_guard.cc:193] This TensorFlow binary is optimized with oneAPI Deep Neural Network Library (oneDNN) to use the following CPU instructions in performance-critical operations:  AVX2 FMA\n",
      "To enable them in other operations, rebuild TensorFlow with the appropriate compiler flags.\n",
      "2023-09-08 13:26:54.707218: W tensorflow/compiler/xla/stream_executor/platform/default/dso_loader.cc:64] Could not load dynamic library 'libnvinfer.so.7'; dlerror: libnvinfer.so.7: cannot open shared object file: No such file or directory; LD_LIBRARY_PATH: :/home/albert/miniconda3/envs/Baikal2/lib/\n",
      "2023-09-08 13:26:54.707301: W tensorflow/compiler/xla/stream_executor/platform/default/dso_loader.cc:64] Could not load dynamic library 'libnvinfer_plugin.so.7'; dlerror: libnvinfer_plugin.so.7: cannot open shared object file: No such file or directory; LD_LIBRARY_PATH: :/home/albert/miniconda3/envs/Baikal2/lib/\n",
      "2023-09-08 13:26:54.707310: W tensorflow/compiler/tf2tensorrt/utils/py_utils.cc:38] TF-TRT Warning: Cannot dlopen some TensorRT libraries. If you would like to use Nvidia GPU with TensorRT, please make sure the missing libraries mentioned above are installed properly.\n"
     ]
    },
    {
     "name": "stdout",
     "output_type": "stream",
     "text": [
      "Tensorflow listening on http://localhost:6006/\n"
     ]
    }
   ],
   "source": [
    "from tensorboard import program\n",
    "\n",
    "file_name = \"baikal_mu-nu_h5-s2_tres08_old_norm.h5\"\n",
    "path_to_h5 = '../../../../../ivkhar/Baikal/data/' + file_name\n",
    "#mn = input('Print the model name as a name of function in nn.py model: ')\n",
    "mn = 'nn_mask_1lstm_3convmp_1lstm'\n",
    "model_name = mn + '_' + file_name[0:-3]\n",
    "\n",
    "tracking_address = \"../models/logs_tb/\" # the path of your log file.\n",
    "\n",
    "if __name__ == \"__main__\":\n",
    "    tb = program.TensorBoard()\n",
    "    tb.configure(argv=[None, '--logdir', tracking_address])\n",
    "    url = tb.launch()\n",
    "    print(f\"Tensorflow listening on {url}\")\n",
    "\n",
    "a = input('Print anything to stop TensorBoard: ')"
   ]
  },
  {
   "cell_type": "code",
   "execution_count": null,
   "id": "49bd773a",
   "metadata": {},
   "outputs": [],
   "source": []
  }
 ],
 "metadata": {
  "kernelspec": {
   "display_name": "Python 3 (ipykernel)",
   "language": "python",
   "name": "python3"
  },
  "language_info": {
   "codemirror_mode": {
    "name": "ipython",
    "version": 3
   },
   "file_extension": ".py",
   "mimetype": "text/x-python",
   "name": "python",
   "nbconvert_exporter": "python",
   "pygments_lexer": "ipython3",
   "version": "3.8.17"
  }
 },
 "nbformat": 4,
 "nbformat_minor": 5
}
