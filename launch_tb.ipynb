{
 "cells": [
  {
   "cell_type": "code",
   "execution_count": null,
   "id": "3a485d37",
   "metadata": {},
   "outputs": [],
   "source": [
    "from tensorboard import program\n",
    "\n",
    "file_name = \"baikal_mu-nu_h5-s2_tres08_old_norm.h5\"\n",
    "path_to_h5 = '../../../../../ivkhar/Baikal/data/' + file_name\n",
    "#mn = input('Print the model name as a name of function in nn.py model: ')\n",
    "mn = 'nn_mask_1lstm_3convmp_1lstm'\n",
    "model_name = mn + '_' + file_name[0:-3]\n",
    "\n",
    "tracking_address = \"../models/logs_tb/\" # the path of your log file.\n",
    "\n",
    "if __name__ == \"__main__\":\n",
    "    tb = program.TensorBoard()\n",
    "    tb.configure(argv=[None, '--logdir', tracking_address])\n",
    "    url = tb.launch()\n",
    "    print(f\"Tensorflow listening on {url}\")\n",
    "\n",
    "a = input('Print anything to stop TensorBoard: ')"
   ]
  },
  {
   "cell_type": "code",
   "execution_count": null,
   "id": "49bd773a",
   "metadata": {},
   "outputs": [],
   "source": []
  }
 ],
 "metadata": {
  "kernelspec": {
   "display_name": "Python 3 (ipykernel)",
   "language": "python",
   "name": "python3"
  },
  "language_info": {
   "codemirror_mode": {
    "name": "ipython",
    "version": 3
   },
   "file_extension": ".py",
   "mimetype": "text/x-python",
   "name": "python",
   "nbconvert_exporter": "python",
   "pygments_lexer": "ipython3",
   "version": "3.8.17"
  }
 },
 "nbformat": 4,
 "nbformat_minor": 5
}
