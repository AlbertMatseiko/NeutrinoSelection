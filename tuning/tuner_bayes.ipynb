{
 "cells": [
  {
   "cell_type": "code",
   "execution_count": 28,
   "id": "bb50fec0",
   "metadata": {},
   "outputs": [
    {
     "name": "stdout",
     "output_type": "stream",
     "text": [
      "PhysicalDevice(name='/physical_device:GPU:0', device_type='GPU')\n"
     ]
    }
   ],
   "source": [
    "import tensorflow as tf\n",
    "from tensorflow import keras\n",
    "# GPU on\n",
    "gpus = tf.config.list_physical_devices('GPU')\n",
    "for gpu in gpus:\n",
    "    print(gpu)\n",
    "    tf.config.experimental.set_memory_growth(gpu, True)"
   ]
  },
  {
   "cell_type": "code",
   "execution_count": null,
   "id": "8b203963",
   "metadata": {},
   "outputs": [],
   "source": []
  },
  {
   "cell_type": "code",
   "execution_count": 29,
   "id": "d697ef91",
   "metadata": {},
   "outputs": [],
   "source": [
    "import keras_tuner as kt"
   ]
  },
  {
   "cell_type": "code",
   "execution_count": 110,
   "id": "985685e0",
   "metadata": {},
   "outputs": [],
   "source": [
    "name = 'baikal_multi_0523_flat_pureMC_h5s2_norm.h5'\n",
    "path_to_h5 = '../../data/' + name\n",
    "model_name = 'tuner_bayes_nn_mask_1lstm_3resblocks_1lstm' + name[:-3]\n",
    "batch_size = 256\n",
    "import sys\n",
    "sys.path.append('../')\n",
    "sys.path.append('../nn_builds')\n",
    "from ds_making import *"
   ]
  },
  {
   "cell_type": "code",
   "execution_count": null,
   "id": "de6346cd",
   "metadata": {},
   "outputs": [],
   "source": []
  },
  {
   "cell_type": "code",
   "execution_count": 111,
   "id": "70d12214",
   "metadata": {},
   "outputs": [],
   "source": [
    "with h5.File(path_to_h5, 'r') as hf:\n",
    "    total_num = hf['train/ev_ids_corr/data'].shape[0]\n",
    "    steps_per_epoch = (total_num // batch_size) // 10"
   ]
  },
  {
   "cell_type": "code",
   "execution_count": 112,
   "id": "3615415e",
   "metadata": {},
   "outputs": [],
   "source": [
    "def make_tuner_dataset(bs = batch_size, path_to_h5 = path_to_h5):\n",
    "    train_dataset = make_dataset(path_to_h5, regime = \"train\", batch_size = bs, shape=(None,6))\n",
    "    #test_dataset = make_dataset(path_to_h5, regime = \"test\", batch_size = bs, shape=(None,6))\n",
    "    return train_dataset"
   ]
  },
  {
   "cell_type": "code",
   "execution_count": 113,
   "id": "40a34200",
   "metadata": {},
   "outputs": [],
   "source": [
    "tuner_data = make_tuner_dataset()"
   ]
  },
  {
   "cell_type": "markdown",
   "id": "30561ccf",
   "metadata": {},
   "source": [
    "### Создание модели"
   ]
  },
  {
   "cell_type": "code",
   "execution_count": 108,
   "id": "76bd4542",
   "metadata": {},
   "outputs": [],
   "source": [
    "##### Architecture1 ######\n",
    "# 1 LSTM layer (rs = True), mask is on\n",
    "# 3 conv layers, cd, mask is on\n",
    "# 1 LSTM layer (rs = False)\n",
    "# 1 Dense (2,softmax)\n",
    "#########################"
   ]
  },
  {
   "cell_type": "code",
   "execution_count": 114,
   "id": "b7568c0b",
   "metadata": {},
   "outputs": [],
   "source": [
    "import tensorflow as tf\n",
    "import tensorflow.keras.layers as tfl\n",
    "from nn_constructor import *\n",
    "from nn_to_tune import *\n",
    "import losses\n",
    "\n",
    "class MyHyperModel(kt.HyperModel):\n",
    "    \n",
    "    def __init__(self):\n",
    "        self.lr = 0.005\n",
    "        self.bs = 256\n",
    "\n",
    "    def build(self, hp, Shape = (None,6), is_mask = True):\n",
    "        \n",
    "        k_id_list = [0]*3\n",
    "        f_id_list = [0]*3\n",
    "        k_cd_list = [0]*3\n",
    "        f_cd_list = [0]*3\n",
    "        s_cd_list = [0]*3\n",
    "        \n",
    "        u1 = 8 #hp.Choice('u1',[8,16])\n",
    "        \n",
    "        k_id_list[0] = 8 #hp.Int('k0', 8,20,4)\n",
    "        k_id_list[1] = 16 #hp.Int('k1', 8,20,4) #k_id_list[0] #hp.Choice('k1',[5,8])\n",
    "        k_id_list[2] = 20 #hp.Int('k2', 8,20,4) #k_id_list[0] #hp.Choice('k2',[5,8])\n",
    "        \n",
    "        k_cd_list[0] = k_id_list[0]\n",
    "        k_cd_list[1] = k_id_list[1]\n",
    "        k_cd_list[2] = k_id_list[2]\n",
    "        \n",
    "        f_id_list[0] = 32 #hp.Choice('f_id_0', [32,64,128]) #hp.Choice('f_id_0', [16,32,64,96,128]) #hp.Int('f_id_0',16,256, step = 16) #f_id = f_cd\n",
    "        f_id_list[1] = f_id_list[0] #hp.Choice('f_id_1', [96]) #hp.Choice('f_id_1', [16,32,64,96,128]) #hp.Int('f_id_1',16,256, step = 16)\n",
    "        f_id_list[2] = f_id_list[0] #hp.Choice('f_id_2', [64]) #hp.Choice('f_id_2', [16,32,64,96,128]) #hp.Int('f_id_2',16,256, step = 16)\n",
    "        \n",
    "        f_cd_list[0] = f_id_list[0] #hp.Int('f_cd_0',16,256, step = 16)\n",
    "        f_cd_list[1] = f_id_list[1] #hp.Int('f_cd_1',16,256, step = 16)\n",
    "        f_cd_list[2] = f_id_list[2] #hp.Int('f_cd_2',16,256, step = 16)\n",
    "        \n",
    "        s_cd_list[0] = 2 #hp.Choice('s_cd_0',[2])\n",
    "        s_cd_list[1] = 2 #hp.Choice('s_cd_1',[2])\n",
    "        s_cd_list[2] = 2 #hp.Choice('s_cd_2',[2])\n",
    "        u2 = 16 #hp.Choice('u2',[8,16])\n",
    "        self.lr = 0.005 #hp.Choice('lr', [0.003,0.005,0.01, 0.015, 0.02]) #hp.Float(\"lr\", min_value=1e-4, max_value=5e-2, sampling=\"log\")\n",
    "        \n",
    "        model = nn_1LSTM_3RB_1LSTM(Shape, u1, u2, f_id_list, k_id_list, \n",
    "                                               f_cd_list, k_cd_list, s_cd_list)\n",
    "        \n",
    "        decay = hp.Choice('lr_decay', ['exp','pow_1','pow_0.5'])\n",
    "        decay_steps = 5000\n",
    "        \n",
    "        if decay == 'exp':\n",
    "            lrate = tf.keras.optimizers.schedules.ExponentialDecay(\n",
    "                                    initial_learning_rate=self.lr, \n",
    "                                    decay_steps=decay_steps,\n",
    "                                    decay_rate=0.05)\n",
    "        else:\n",
    "            lrate = tf.keras.optimizers.schedules.PolynomialDecay(\n",
    "                                    initial_learning_rate=self.lr,\n",
    "                                    decay_steps=decay_steps,\n",
    "                                    end_learning_rate=1e-4,\n",
    "                                    power=float(decay[4:]))\n",
    "            \n",
    "        optimizer = tf.keras.optimizers.Adam(self.lr, beta_1=0.9, beta_2=0.999, epsilon=1e-07, \n",
    "                                             amsgrad=False, name='Adam')\n",
    "        \n",
    "        model.compile(optimizer=optimizer, loss=losses.focal_loss(2., 2., 10., 1.), \n",
    "                      metrics=[tf.keras.metrics.Recall(class_id=1, thresholds=0.5, name='E_0.5', dtype = tf.float64),\n",
    "                               'accuracy',\n",
    "                              tf.keras.metrics.Recall(class_id=0, thresholds=1. - 0.5, name='1-S_0.5', dtype = tf.float64)])\n",
    "        \n",
    "        return model\n",
    "    \n",
    "    def fit(self, hp, model, *args, **kwargs):\n",
    "        return model.fit(*args, batch_size=self.bs, \n",
    "                         verbose = True, **kwargs)"
   ]
  },
  {
   "cell_type": "markdown",
   "id": "e769e6cc",
   "metadata": {},
   "source": [
    "### Задаём tuner"
   ]
  },
  {
   "cell_type": "code",
   "execution_count": 115,
   "id": "41b85801",
   "metadata": {},
   "outputs": [],
   "source": [
    "# Оптимизируем lr"
   ]
  },
  {
   "cell_type": "code",
   "execution_count": 116,
   "id": "cae63840",
   "metadata": {},
   "outputs": [],
   "source": [
    "tuner = kt.GridSearch(\n",
    "    MyHyperModel(),\n",
    "    objective=kt.Objective(\"loss\", direction=\"min\"),\n",
    "    max_trials = 10,\n",
    "    overwrite=True,\n",
    "    directory=model_name,\n",
    "    project_name=\"tune_hypermodel\",\n",
    "    max_retries_per_trial=1,\n",
    ")"
   ]
  },
  {
   "cell_type": "code",
   "execution_count": 119,
   "id": "faf2d4c4",
   "metadata": {},
   "outputs": [
    {
     "name": "stdout",
     "output_type": "stream",
     "text": [
      "Trial 3 Complete [00h 09m 55s]\n",
      "loss: 0.04749308526515961\n",
      "\n",
      "Best loss So Far: 0.04749308526515961\n",
      "Total elapsed time: 00h 30m 25s\n",
      "INFO:tensorflow:Oracle triggered exit\n"
     ]
    }
   ],
   "source": [
    "tuner.search(tuner_data, epochs=5, steps_per_epoch = steps_per_epoch)#, validation_data=tuner_data[1])"
   ]
  },
  {
   "cell_type": "code",
   "execution_count": null,
   "id": "141962b4",
   "metadata": {},
   "outputs": [],
   "source": [
    "# Оптимизируем ядра"
   ]
  },
  {
   "cell_type": "code",
   "execution_count": null,
   "id": "987828a9",
   "metadata": {},
   "outputs": [],
   "source": [
    "# Оптимизируем фильтры"
   ]
  },
  {
   "cell_type": "markdown",
   "id": "46dff987",
   "metadata": {},
   "source": [
    "### Анализ результатов"
   ]
  },
  {
   "cell_type": "code",
   "execution_count": 123,
   "id": "39ec5fb0",
   "metadata": {},
   "outputs": [
    {
     "name": "stdout",
     "output_type": "stream",
     "text": [
      "{'lr_decay': 'pow_0.5'}\n"
     ]
    }
   ],
   "source": [
    "# Get the optimal hyperparameters\n",
    "best_hps=tuner.get_best_hyperparameters(num_trials=10)[0]\n",
    "print(best_hps.values)"
   ]
  },
  {
   "cell_type": "code",
   "execution_count": 124,
   "id": "753b4843",
   "metadata": {},
   "outputs": [],
   "source": [
    "# Return all trials from the oracle\n",
    "trials = tuner.oracle.trials\n",
    "\n",
    "# Get best loss value and corresponding hyperparams\n",
    "l = []\n",
    "for trial_id, trial in trials.items():\n",
    "    l.append([trial.score, trial.hyperparameters.values])"
   ]
  },
  {
   "cell_type": "code",
   "execution_count": 125,
   "id": "326021a4",
   "metadata": {},
   "outputs": [
    {
     "data": {
      "text/plain": [
       "[[0.05021613836288452, {'lr_decay': 'exp'}],\n",
       " [0.04833989590406418, {'lr_decay': 'pow_1'}],\n",
       " [0.04749308526515961, {'lr_decay': 'pow_0.5'}]]"
      ]
     },
     "execution_count": 125,
     "metadata": {},
     "output_type": "execute_result"
    }
   ],
   "source": [
    "l = [e for e in l if e[0]!=None]\n",
    "l"
   ]
  },
  {
   "cell_type": "code",
   "execution_count": 55,
   "id": "4761b007",
   "metadata": {},
   "outputs": [],
   "source": [
    "objective3 = [l[i][0] for i in range(len(l))]\n",
    "values3 = [l[i][1]['k0'] for i in range(len(l))]"
   ]
  },
  {
   "cell_type": "code",
   "execution_count": 57,
   "id": "76bea623",
   "metadata": {},
   "outputs": [
    {
     "data": {
      "text/plain": [
       "[<matplotlib.lines.Line2D at 0x7fcfdc104a90>]"
      ]
     },
     "execution_count": 57,
     "metadata": {},
     "output_type": "execute_result"
    },
    {
     "data": {
      "image/png": "[encoded data removed]",
      "text/plain": [
       "<Figure size 640x480 with 1 Axes>"
      ]
     },
     "metadata": {},
     "output_type": "display_data"
    }
   ],
   "source": [
    "import matplotlib.pyplot as plt\n",
    "plt.plot(values3, objective3)"
   ]
  },
  {
   "cell_type": "code",
   "execution_count": null,
   "id": "d24e9247",
   "metadata": {},
   "outputs": [],
   "source": []
  },
  {
   "cell_type": "code",
   "execution_count": null,
   "id": "02ea3873",
   "metadata": {},
   "outputs": [],
   "source": []
  },
  {
   "cell_type": "code",
   "execution_count": null,
   "id": "588a2551",
   "metadata": {},
   "outputs": [],
   "source": []
  },
  {
   "cell_type": "code",
   "execution_count": null,
   "id": "f7745d1b",
   "metadata": {},
   "outputs": [],
   "source": []
  },
  {
   "cell_type": "code",
   "execution_count": null,
   "id": "7c68a3fe",
   "metadata": {},
   "outputs": [],
   "source": []
  },
  {
   "cell_type": "code",
   "execution_count": null,
   "id": "cae27517",
   "metadata": {},
   "outputs": [],
   "source": []
  },
  {
   "cell_type": "code",
   "execution_count": 46,
   "id": "1c4a1d33",
   "metadata": {},
   "outputs": [
    {
     "data": {
      "text/plain": [
       "[<matplotlib.lines.Line2D at 0x7fcfdc796e80>]"
      ]
     },
     "execution_count": 46,
     "metadata": {},
     "output_type": "execute_result"
    },
    {
     "data": {
      "image/png": "[encoded data removed]",
      "text/plain": [
       "<Figure size 640x480 with 1 Axes>"
      ]
     },
     "metadata": {},
     "output_type": "display_data"
    }
   ],
   "source": [
    "import matplotlib.pyplot as plt\n",
    "plt.plot(values, objective)\n",
    "plt.plot(values2, objective2)"
   ]
  },
  {
   "cell_type": "code",
   "execution_count": 65,
   "id": "f71e19f3",
   "metadata": {},
   "outputs": [
    {
     "data": {
      "text/plain": [
       "array([['0.04977881908416748',\n",
       "        \"{'k0': 8, 'k1': 16, 'k2': 20, 'f_id_0': 32}\"],\n",
       "       ['0.049856118857860565',\n",
       "        \"{'k0': 8, 'k1': 16, 'k2': 8, 'f_id_0': 64}\"],\n",
       "       ['0.050177544355392456',\n",
       "        \"{'k0': 8, 'k1': 12, 'k2': 16, 'f_id_0': 32}\"],\n",
       "       ['0.050224024802446365',\n",
       "        \"{'k0': 12, 'k1': 20, 'k2': 8, 'f_id_0': 32}\"],\n",
       "       ['0.05027295649051666',\n",
       "        \"{'k0': 12, 'k1': 16, 'k2': 8, 'f_id_0': 32}\"],\n",
       "       ['0.05032031983137131',\n",
       "        \"{'k0': 8, 'k1': 20, 'k2': 20, 'f_id_0': 32}\"],\n",
       "       ['0.050345323979854584',\n",
       "        \"{'k0': 12, 'k1': 16, 'k2': 12, 'f_id_0': 32}\"],\n",
       "       ['0.050407543778419495',\n",
       "        \"{'k0': 12, 'k1': 8, 'k2': 8, 'f_id_0': 32}\"],\n",
       "       ['0.05045253038406372',\n",
       "        \"{'k0': 12, 'k1': 20, 'k2': 16, 'f_id_0': 128}\"],\n",
       "       ['0.05047561973333359',\n",
       "        \"{'k0': 8, 'k1': 8, 'k2': 8, 'f_id_0': 32}\"],\n",
       "       ['0.05054573714733124',\n",
       "        \"{'k0': 20, 'k1': 16, 'k2': 12, 'f_id_0': 128}\"],\n",
       "       ['0.05063078925013542',\n",
       "        \"{'k0': 16, 'k1': 8, 'k2': 16, 'f_id_0': 32}\"],\n",
       "       ['0.05063449963927269',\n",
       "        \"{'k0': 12, 'k1': 12, 'k2': 8, 'f_id_0': 64}\"],\n",
       "       ['0.05066468566656113',\n",
       "        \"{'k0': 12, 'k1': 16, 'k2': 12, 'f_id_0': 64}\"],\n",
       "       ['0.05071885511279106',\n",
       "        \"{'k0': 8, 'k1': 16, 'k2': 20, 'f_id_0': 64}\"],\n",
       "       ['0.05076418071985245',\n",
       "        \"{'k0': 8, 'k1': 16, 'k2': 12, 'f_id_0': 64}\"],\n",
       "       ['0.05083059147000313',\n",
       "        \"{'k0': 16, 'k1': 16, 'k2': 20, 'f_id_0': 32}\"],\n",
       "       ['0.050831470638513565',\n",
       "        \"{'k0': 12, 'k1': 8, 'k2': 16, 'f_id_0': 32}\"],\n",
       "       ['0.05087835714221001',\n",
       "        \"{'k0': 16, 'k1': 12, 'k2': 16, 'f_id_0': 64}\"],\n",
       "       ['0.05089243873953819',\n",
       "        \"{'k0': 16, 'k1': 12, 'k2': 12, 'f_id_0': 64}\"],\n",
       "       ['0.05089908093214035',\n",
       "        \"{'k0': 20, 'k1': 8, 'k2': 16, 'f_id_0': 32}\"],\n",
       "       ['0.050934087485075',\n",
       "        \"{'k0': 12, 'k1': 20, 'k2': 20, 'f_id_0': 128}\"],\n",
       "       ['0.05093984678387642',\n",
       "        \"{'k0': 8, 'k1': 20, 'k2': 16, 'f_id_0': 32}\"],\n",
       "       ['0.0509992390871048',\n",
       "        \"{'k0': 16, 'k1': 12, 'k2': 20, 'f_id_0': 32}\"],\n",
       "       ['0.051000382751226425',\n",
       "        \"{'k0': 16, 'k1': 8, 'k2': 12, 'f_id_0': 64}\"],\n",
       "       ['0.05103348568081856',\n",
       "        \"{'k0': 16, 'k1': 12, 'k2': 12, 'f_id_0': 32}\"],\n",
       "       ['0.05104958266019821',\n",
       "        \"{'k0': 20, 'k1': 8, 'k2': 8, 'f_id_0': 128}\"],\n",
       "       ['0.05105099827051163',\n",
       "        \"{'k0': 16, 'k1': 20, 'k2': 8, 'f_id_0': 32}\"],\n",
       "       ['0.05106278136372566',\n",
       "        \"{'k0': 8, 'k1': 16, 'k2': 12, 'f_id_0': 32}\"],\n",
       "       ['0.05108586326241493',\n",
       "        \"{'k0': 8, 'k1': 16, 'k2': 20, 'f_id_0': 128}\"],\n",
       "       ['0.0511256642639637',\n",
       "        \"{'k0': 20, 'k1': 20, 'k2': 8, 'f_id_0': 128}\"],\n",
       "       ['0.05114586651325226',\n",
       "        \"{'k0': 16, 'k1': 12, 'k2': 8, 'f_id_0': 32}\"],\n",
       "       ['0.051167961210012436',\n",
       "        \"{'k0': 20, 'k1': 12, 'k2': 20, 'f_id_0': 32}\"],\n",
       "       ['0.051180195063352585',\n",
       "        \"{'k0': 16, 'k1': 12, 'k2': 8, 'f_id_0': 64}\"],\n",
       "       ['0.05118747428059578',\n",
       "        \"{'k0': 20, 'k1': 8, 'k2': 20, 'f_id_0': 128}\"],\n",
       "       ['0.05120101198554039',\n",
       "        \"{'k0': 12, 'k1': 16, 'k2': 16, 'f_id_0': 32}\"],\n",
       "       ['0.05120740085840225',\n",
       "        \"{'k0': 16, 'k1': 20, 'k2': 16, 'f_id_0': 64}\"],\n",
       "       ['0.05123663321137428',\n",
       "        \"{'k0': 12, 'k1': 20, 'k2': 12, 'f_id_0': 64}\"],\n",
       "       ['0.05124931037425995',\n",
       "        \"{'k0': 12, 'k1': 16, 'k2': 12, 'f_id_0': 128}\"],\n",
       "       ['0.05128920450806618',\n",
       "        \"{'k0': 20, 'k1': 16, 'k2': 16, 'f_id_0': 64}\"],\n",
       "       ['0.051292240619659424',\n",
       "        \"{'k0': 16, 'k1': 16, 'k2': 8, 'f_id_0': 64}\"],\n",
       "       ['0.051309771835803986',\n",
       "        \"{'k0': 12, 'k1': 20, 'k2': 16, 'f_id_0': 64}\"],\n",
       "       ['0.05135645344853401',\n",
       "        \"{'k0': 8, 'k1': 8, 'k2': 12, 'f_id_0': 64}\"],\n",
       "       ['0.05136498436331749',\n",
       "        \"{'k0': 8, 'k1': 20, 'k2': 8, 'f_id_0': 32}\"],\n",
       "       ['0.05137331411242485',\n",
       "        \"{'k0': 12, 'k1': 12, 'k2': 12, 'f_id_0': 128}\"],\n",
       "       ['0.05138885974884033',\n",
       "        \"{'k0': 16, 'k1': 16, 'k2': 16, 'f_id_0': 64}\"],\n",
       "       ['0.05139442905783653',\n",
       "        \"{'k0': 20, 'k1': 16, 'k2': 8, 'f_id_0': 64}\"],\n",
       "       ['0.05146065726876259',\n",
       "        \"{'k0': 12, 'k1': 12, 'k2': 12, 'f_id_0': 32}\"],\n",
       "       ['0.051497939974069595',\n",
       "        \"{'k0': 20, 'k1': 8, 'k2': 16, 'f_id_0': 64}\"],\n",
       "       ['0.051501259207725525',\n",
       "        \"{'k0': 16, 'k1': 20, 'k2': 16, 'f_id_0': 32}\"],\n",
       "       ['0.05152080953121185',\n",
       "        \"{'k0': 16, 'k1': 8, 'k2': 20, 'f_id_0': 32}\"],\n",
       "       ['0.05157625675201416',\n",
       "        \"{'k0': 20, 'k1': 16, 'k2': 16, 'f_id_0': 32}\"],\n",
       "       ['0.051663607358932495',\n",
       "        \"{'k0': 20, 'k1': 20, 'k2': 12, 'f_id_0': 32}\"],\n",
       "       ['0.05167332664132118',\n",
       "        \"{'k0': 12, 'k1': 8, 'k2': 16, 'f_id_0': 128}\"],\n",
       "       ['0.05169178545475006',\n",
       "        \"{'k0': 12, 'k1': 16, 'k2': 20, 'f_id_0': 128}\"],\n",
       "       ['0.0516996867954731',\n",
       "        \"{'k0': 8, 'k1': 20, 'k2': 12, 'f_id_0': 64}\"],\n",
       "       ['0.051707085222005844',\n",
       "        \"{'k0': 20, 'k1': 8, 'k2': 20, 'f_id_0': 32}\"],\n",
       "       ['0.051739875227212906',\n",
       "        \"{'k0': 20, 'k1': 12, 'k2': 8, 'f_id_0': 128}\"],\n",
       "       ['0.05175107717514038',\n",
       "        \"{'k0': 8, 'k1': 16, 'k2': 16, 'f_id_0': 64}\"],\n",
       "       ['0.0517938956618309',\n",
       "        \"{'k0': 8, 'k1': 8, 'k2': 12, 'f_id_0': 32}\"],\n",
       "       ['0.05180855840444565',\n",
       "        \"{'k0': 16, 'k1': 20, 'k2': 12, 'f_id_0': 32}\"],\n",
       "       ['0.0518353171646595',\n",
       "        \"{'k0': 20, 'k1': 12, 'k2': 12, 'f_id_0': 64}\"],\n",
       "       ['0.05187080800533295',\n",
       "        \"{'k0': 16, 'k1': 12, 'k2': 20, 'f_id_0': 128}\"],\n",
       "       ['0.051895398646593094',\n",
       "        \"{'k0': 12, 'k1': 8, 'k2': 20, 'f_id_0': 32}\"],\n",
       "       ['0.051921188831329346',\n",
       "        \"{'k0': 16, 'k1': 16, 'k2': 8, 'f_id_0': 128}\"],\n",
       "       ['0.052009519189596176',\n",
       "        \"{'k0': 20, 'k1': 8, 'k2': 8, 'f_id_0': 32}\"],\n",
       "       ['0.052078064531087875',\n",
       "        \"{'k0': 12, 'k1': 12, 'k2': 16, 'f_id_0': 64}\"],\n",
       "       ['0.05207982286810875',\n",
       "        \"{'k0': 12, 'k1': 12, 'k2': 20, 'f_id_0': 32}\"],\n",
       "       ['0.05212067440152168',\n",
       "        \"{'k0': 16, 'k1': 20, 'k2': 20, 'f_id_0': 64}\"],\n",
       "       ['0.0521441325545311',\n",
       "        \"{'k0': 12, 'k1': 8, 'k2': 20, 'f_id_0': 128}\"],\n",
       "       ['0.05214943364262581',\n",
       "        \"{'k0': 8, 'k1': 8, 'k2': 8, 'f_id_0': 64}\"],\n",
       "       ['0.052171457558870316',\n",
       "        \"{'k0': 12, 'k1': 16, 'k2': 8, 'f_id_0': 64}\"],\n",
       "       ['0.05222470313310623',\n",
       "        \"{'k0': 16, 'k1': 8, 'k2': 8, 'f_id_0': 32}\"],\n",
       "       ['0.05223427340388298',\n",
       "        \"{'k0': 20, 'k1': 20, 'k2': 16, 'f_id_0': 32}\"],\n",
       "       ['0.05223839357495308',\n",
       "        \"{'k0': 20, 'k1': 12, 'k2': 8, 'f_id_0': 64}\"],\n",
       "       ['0.05224858224391937',\n",
       "        \"{'k0': 20, 'k1': 16, 'k2': 8, 'f_id_0': 32}\"],\n",
       "       ['0.05225247144699097',\n",
       "        \"{'k0': 16, 'k1': 16, 'k2': 20, 'f_id_0': 128}\"],\n",
       "       ['0.05229699984192848',\n",
       "        \"{'k0': 16, 'k1': 20, 'k2': 12, 'f_id_0': 128}\"],\n",
       "       ['0.05231374874711037',\n",
       "        \"{'k0': 20, 'k1': 12, 'k2': 20, 'f_id_0': 64}\"],\n",
       "       ['0.05237400531768799',\n",
       "        \"{'k0': 8, 'k1': 20, 'k2': 8, 'f_id_0': 64}\"],\n",
       "       ['0.05239126458764076',\n",
       "        \"{'k0': 20, 'k1': 20, 'k2': 8, 'f_id_0': 32}\"],\n",
       "       ['0.05242956802248955',\n",
       "        \"{'k0': 12, 'k1': 8, 'k2': 12, 'f_id_0': 32}\"],\n",
       "       ['0.052435364574193954',\n",
       "        \"{'k0': 12, 'k1': 12, 'k2': 16, 'f_id_0': 32}\"],\n",
       "       ['0.052444420754909515',\n",
       "        \"{'k0': 20, 'k1': 12, 'k2': 8, 'f_id_0': 32}\"],\n",
       "       ['0.05245206132531166',\n",
       "        \"{'k0': 16, 'k1': 20, 'k2': 8, 'f_id_0': 64}\"],\n",
       "       ['0.05245743319392204',\n",
       "        \"{'k0': 8, 'k1': 12, 'k2': 20, 'f_id_0': 32}\"],\n",
       "       ['0.052460137754678726',\n",
       "        \"{'k0': 20, 'k1': 8, 'k2': 12, 'f_id_0': 32}\"],\n",
       "       ['0.052492041140794754',\n",
       "        \"{'k0': 12, 'k1': 8, 'k2': 12, 'f_id_0': 128}\"],\n",
       "       ['0.05251223221421242',\n",
       "        \"{'k0': 20, 'k1': 8, 'k2': 20, 'f_id_0': 64}\"],\n",
       "       ['0.05253718048334122',\n",
       "        \"{'k0': 12, 'k1': 8, 'k2': 8, 'f_id_0': 64}\"],\n",
       "       ['0.052558597177267075',\n",
       "        \"{'k0': 16, 'k1': 8, 'k2': 20, 'f_id_0': 64}\"],\n",
       "       ['0.052574433386325836',\n",
       "        \"{'k0': 16, 'k1': 12, 'k2': 16, 'f_id_0': 32}\"],\n",
       "       ['0.05260168015956879',\n",
       "        \"{'k0': 20, 'k1': 20, 'k2': 16, 'f_id_0': 128}\"],\n",
       "       ['0.05261790752410889',\n",
       "        \"{'k0': 12, 'k1': 8, 'k2': 12, 'f_id_0': 64}\"],\n",
       "       ['0.052677664905786514',\n",
       "        \"{'k0': 16, 'k1': 8, 'k2': 16, 'f_id_0': 64}\"],\n",
       "       ['0.05273006856441498',\n",
       "        \"{'k0': 16, 'k1': 8, 'k2': 8, 'f_id_0': 128}\"],\n",
       "       ['0.05273723602294922',\n",
       "        \"{'k0': 12, 'k1': 20, 'k2': 8, 'f_id_0': 128}\"],\n",
       "       ['0.05276474356651306',\n",
       "        \"{'k0': 8, 'k1': 8, 'k2': 8, 'f_id_0': 128}\"],\n",
       "       ['0.05281003564596176',\n",
       "        \"{'k0': 8, 'k1': 12, 'k2': 16, 'f_id_0': 128}\"],\n",
       "       ['0.05283958092331886',\n",
       "        \"{'k0': 16, 'k1': 12, 'k2': 20, 'f_id_0': 64}\"],\n",
       "       ['0.05286496877670288',\n",
       "        \"{'k0': 20, 'k1': 20, 'k2': 8, 'f_id_0': 64}\"],\n",
       "       ['0.052935317158699036',\n",
       "        \"{'k0': 8, 'k1': 16, 'k2': 16, 'f_id_0': 32}\"],\n",
       "       ['0.052941642701625824',\n",
       "        \"{'k0': 20, 'k1': 8, 'k2': 16, 'f_id_0': 128}\"],\n",
       "       ['0.05295577645301819',\n",
       "        \"{'k0': 8, 'k1': 12, 'k2': 16, 'f_id_0': 64}\"],\n",
       "       ['0.05298251286149025',\n",
       "        \"{'k0': 20, 'k1': 8, 'k2': 12, 'f_id_0': 128}\"],\n",
       "       ['0.05298865959048271',\n",
       "        \"{'k0': 12, 'k1': 20, 'k2': 20, 'f_id_0': 32}\"],\n",
       "       ['0.053037624806165695',\n",
       "        \"{'k0': 12, 'k1': 12, 'k2': 8, 'f_id_0': 128}\"],\n",
       "       ['0.05311043560504913',\n",
       "        \"{'k0': 20, 'k1': 12, 'k2': 12, 'f_id_0': 128}\"],\n",
       "       ['0.053120482712984085',\n",
       "        \"{'k0': 16, 'k1': 8, 'k2': 8, 'f_id_0': 64}\"],\n",
       "       ['0.053141940385103226',\n",
       "        \"{'k0': 20, 'k1': 12, 'k2': 16, 'f_id_0': 128}\"],\n",
       "       ['0.05318668484687805',\n",
       "        \"{'k0': 8, 'k1': 16, 'k2': 8, 'f_id_0': 128}\"],\n",
       "       ['0.0532100610435009',\n",
       "        \"{'k0': 12, 'k1': 20, 'k2': 8, 'f_id_0': 64}\"],\n",
       "       ['0.053218115121126175',\n",
       "        \"{'k0': 16, 'k1': 20, 'k2': 20, 'f_id_0': 32}\"],\n",
       "       ['0.053359005600214005',\n",
       "        \"{'k0': 8, 'k1': 8, 'k2': 20, 'f_id_0': 128}\"],\n",
       "       ['0.05344291776418686',\n",
       "        \"{'k0': 12, 'k1': 12, 'k2': 20, 'f_id_0': 64}\"],\n",
       "       ['0.053453803062438965',\n",
       "        \"{'k0': 20, 'k1': 12, 'k2': 12, 'f_id_0': 32}\"],\n",
       "       ['0.053497280925512314',\n",
       "        \"{'k0': 16, 'k1': 12, 'k2': 12, 'f_id_0': 128}\"],\n",
       "       ['0.05350334942340851',\n",
       "        \"{'k0': 20, 'k1': 12, 'k2': 16, 'f_id_0': 64}\"],\n",
       "       ['0.0535566546022892',\n",
       "        \"{'k0': 8, 'k1': 20, 'k2': 20, 'f_id_0': 64}\"],\n",
       "       ['0.05362090840935707',\n",
       "        \"{'k0': 8, 'k1': 16, 'k2': 12, 'f_id_0': 128}\"],\n",
       "       ['0.05362128093838692',\n",
       "        \"{'k0': 20, 'k1': 16, 'k2': 20, 'f_id_0': 128}\"],\n",
       "       ['0.05365126207470894',\n",
       "        \"{'k0': 16, 'k1': 8, 'k2': 16, 'f_id_0': 128}\"],\n",
       "       ['0.05368002876639366',\n",
       "        \"{'k0': 12, 'k1': 12, 'k2': 12, 'f_id_0': 64}\"],\n",
       "       ['0.05371236428618431',\n",
       "        \"{'k0': 16, 'k1': 12, 'k2': 16, 'f_id_0': 128}\"],\n",
       "       ['0.05373041331768036',\n",
       "        \"{'k0': 8, 'k1': 20, 'k2': 16, 'f_id_0': 64}\"],\n",
       "       ['0.05377442017197609',\n",
       "        \"{'k0': 20, 'k1': 12, 'k2': 20, 'f_id_0': 128}\"],\n",
       "       ['0.05379956215620041',\n",
       "        \"{'k0': 12, 'k1': 12, 'k2': 20, 'f_id_0': 128}\"],\n",
       "       ['0.05384662374854088',\n",
       "        \"{'k0': 12, 'k1': 8, 'k2': 20, 'f_id_0': 64}\"],\n",
       "       ['0.053856056183576584',\n",
       "        \"{'k0': 12, 'k1': 16, 'k2': 20, 'f_id_0': 64}\"],\n",
       "       ['0.0539231114089489',\n",
       "        \"{'k0': 20, 'k1': 20, 'k2': 12, 'f_id_0': 128}\"],\n",
       "       ['0.054157648235559464',\n",
       "        \"{'k0': 20, 'k1': 16, 'k2': 8, 'f_id_0': 128}\"],\n",
       "       ['0.05416494980454445',\n",
       "        \"{'k0': 8, 'k1': 12, 'k2': 20, 'f_id_0': 128}\"],\n",
       "       ['0.054178107529878616',\n",
       "        \"{'k0': 8, 'k1': 16, 'k2': 16, 'f_id_0': 128}\"],\n",
       "       ['0.05418488383293152',\n",
       "        \"{'k0': 12, 'k1': 12, 'k2': 8, 'f_id_0': 32}\"],\n",
       "       ['0.0542156882584095',\n",
       "        \"{'k0': 8, 'k1': 8, 'k2': 16, 'f_id_0': 32}\"],\n",
       "       ['0.054233115166425705',\n",
       "        \"{'k0': 20, 'k1': 16, 'k2': 20, 'f_id_0': 32}\"],\n",
       "       ['0.054249078035354614',\n",
       "        \"{'k0': 8, 'k1': 20, 'k2': 8, 'f_id_0': 128}\"],\n",
       "       ['0.05429786816239357',\n",
       "        \"{'k0': 8, 'k1': 12, 'k2': 12, 'f_id_0': 64}\"],\n",
       "       ['0.0543438196182251',\n",
       "        \"{'k0': 20, 'k1': 20, 'k2': 20, 'f_id_0': 64}\"],\n",
       "       ['0.054409049451351166',\n",
       "        \"{'k0': 8, 'k1': 12, 'k2': 8, 'f_id_0': 64}\"],\n",
       "       ['0.05455608293414116',\n",
       "        \"{'k0': 20, 'k1': 12, 'k2': 16, 'f_id_0': 32}\"],\n",
       "       ['0.054779425263404846',\n",
       "        \"{'k0': 16, 'k1': 8, 'k2': 12, 'f_id_0': 32}\"],\n",
       "       ['0.054798487573862076',\n",
       "        \"{'k0': 8, 'k1': 8, 'k2': 20, 'f_id_0': 32}\"],\n",
       "       ['0.05492435768246651',\n",
       "        \"{'k0': 8, 'k1': 20, 'k2': 12, 'f_id_0': 128}\"],\n",
       "       ['0.0549456849694252',\n",
       "        \"{'k0': 16, 'k1': 16, 'k2': 16, 'f_id_0': 128}\"],\n",
       "       ['0.055009979754686356',\n",
       "        \"{'k0': 16, 'k1': 16, 'k2': 16, 'f_id_0': 32}\"],\n",
       "       ['0.0550210066139698',\n",
       "        \"{'k0': 16, 'k1': 20, 'k2': 16, 'f_id_0': 128}\"],\n",
       "       ['0.05505372956395149',\n",
       "        \"{'k0': 16, 'k1': 20, 'k2': 20, 'f_id_0': 128}\"],\n",
       "       ['0.05510858818888664',\n",
       "        \"{'k0': 16, 'k1': 16, 'k2': 8, 'f_id_0': 32}\"],\n",
       "       ['0.055136341601610184',\n",
       "        \"{'k0': 12, 'k1': 16, 'k2': 16, 'f_id_0': 128}\"],\n",
       "       ['0.055221643298864365',\n",
       "        \"{'k0': 12, 'k1': 20, 'k2': 20, 'f_id_0': 64}\"],\n",
       "       ['0.05537264049053192',\n",
       "        \"{'k0': 8, 'k1': 12, 'k2': 12, 'f_id_0': 128}\"],\n",
       "       ['0.05544715374708176',\n",
       "        \"{'k0': 20, 'k1': 8, 'k2': 12, 'f_id_0': 64}\"],\n",
       "       ['0.055484671145677567',\n",
       "        \"{'k0': 20, 'k1': 8, 'k2': 8, 'f_id_0': 64}\"],\n",
       "       ['0.055538225919008255',\n",
       "        \"{'k0': 20, 'k1': 16, 'k2': 16, 'f_id_0': 128}\"],\n",
       "       ['0.0555708073079586',\n",
       "        \"{'k0': 20, 'k1': 16, 'k2': 12, 'f_id_0': 32}\"],\n",
       "       ['0.055637240409851074',\n",
       "        \"{'k0': 8, 'k1': 12, 'k2': 12, 'f_id_0': 32}\"],\n",
       "       ['0.05566970258951187',\n",
       "        \"{'k0': 16, 'k1': 8, 'k2': 12, 'f_id_0': 128}\"],\n",
       "       ['0.05570085346698761',\n",
       "        \"{'k0': 8, 'k1': 8, 'k2': 20, 'f_id_0': 64}\"],\n",
       "       ['0.055731624364852905',\n",
       "        \"{'k0': 8, 'k1': 20, 'k2': 12, 'f_id_0': 32}\"],\n",
       "       ['0.05573943257331848',\n",
       "        \"{'k0': 12, 'k1': 20, 'k2': 16, 'f_id_0': 32}\"],\n",
       "       ['0.05595209449529648',\n",
       "        \"{'k0': 12, 'k1': 16, 'k2': 16, 'f_id_0': 64}\"],\n",
       "       ['0.05602160468697548',\n",
       "        \"{'k0': 16, 'k1': 12, 'k2': 8, 'f_id_0': 128}\"],\n",
       "       ['0.056070130318403244',\n",
       "        \"{'k0': 12, 'k1': 16, 'k2': 20, 'f_id_0': 32}\"],\n",
       "       ['0.056177251040935516',\n",
       "        \"{'k0': 16, 'k1': 16, 'k2': 20, 'f_id_0': 64}\"],\n",
       "       ['0.05617973208427429',\n",
       "        \"{'k0': 8, 'k1': 12, 'k2': 20, 'f_id_0': 64}\"],\n",
       "       ['0.05625040829181671',\n",
       "        \"{'k0': 8, 'k1': 8, 'k2': 12, 'f_id_0': 128}\"],\n",
       "       ['0.056290555745363235',\n",
       "        \"{'k0': 16, 'k1': 20, 'k2': 12, 'f_id_0': 64}\"],\n",
       "       ['0.05632755532860756',\n",
       "        \"{'k0': 20, 'k1': 20, 'k2': 16, 'f_id_0': 64}\"],\n",
       "       ['0.056516505777835846',\n",
       "        \"{'k0': 20, 'k1': 20, 'k2': 20, 'f_id_0': 32}\"],\n",
       "       ['0.05694788694381714',\n",
       "        \"{'k0': 20, 'k1': 20, 'k2': 20, 'f_id_0': 128}\"],\n",
       "       ['0.056962963193655014',\n",
       "        \"{'k0': 8, 'k1': 16, 'k2': 8, 'f_id_0': 32}\"],\n",
       "       ['0.05699297413229942',\n",
       "        \"{'k0': 16, 'k1': 8, 'k2': 20, 'f_id_0': 128}\"],\n",
       "       ['0.05706232786178589',\n",
       "        \"{'k0': 12, 'k1': 20, 'k2': 12, 'f_id_0': 32}\"],\n",
       "       ['0.05711650848388672',\n",
       "        \"{'k0': 16, 'k1': 20, 'k2': 8, 'f_id_0': 128}\"],\n",
       "       ['0.057129550725221634',\n",
       "        \"{'k0': 12, 'k1': 8, 'k2': 8, 'f_id_0': 128}\"],\n",
       "       ['0.05737125501036644',\n",
       "        \"{'k0': 20, 'k1': 20, 'k2': 12, 'f_id_0': 64}\"],\n",
       "       ['0.057406939566135406',\n",
       "        \"{'k0': 8, 'k1': 20, 'k2': 20, 'f_id_0': 128}\"],\n",
       "       ['0.05789060518145561',\n",
       "        \"{'k0': 8, 'k1': 12, 'k2': 8, 'f_id_0': 32}\"],\n",
       "       ['0.05794316157698631',\n",
       "        \"{'k0': 12, 'k1': 16, 'k2': 8, 'f_id_0': 128}\"],\n",
       "       ['0.058172740042209625',\n",
       "        \"{'k0': 8, 'k1': 8, 'k2': 16, 'f_id_0': 64}\"],\n",
       "       ['0.05823589861392975',\n",
       "        \"{'k0': 20, 'k1': 16, 'k2': 12, 'f_id_0': 64}\"],\n",
       "       ['0.0582476370036602',\n",
       "        \"{'k0': 16, 'k1': 16, 'k2': 12, 'f_id_0': 128}\"],\n",
       "       ['0.05826845020055771',\n",
       "        \"{'k0': 16, 'k1': 16, 'k2': 12, 'f_id_0': 64}\"],\n",
       "       ['0.058566268533468246',\n",
       "        \"{'k0': 12, 'k1': 20, 'k2': 12, 'f_id_0': 128}\"],\n",
       "       ['0.058653850108385086',\n",
       "        \"{'k0': 8, 'k1': 20, 'k2': 16, 'f_id_0': 128}\"],\n",
       "       ['0.05909529700875282',\n",
       "        \"{'k0': 20, 'k1': 16, 'k2': 20, 'f_id_0': 64}\"],\n",
       "       ['0.05918145924806595',\n",
       "        \"{'k0': 16, 'k1': 16, 'k2': 12, 'f_id_0': 32}\"],\n",
       "       ['0.05924449488520622',\n",
       "        \"{'k0': 8, 'k1': 12, 'k2': 8, 'f_id_0': 128}\"],\n",
       "       ['0.05928779020905495',\n",
       "        \"{'k0': 8, 'k1': 8, 'k2': 16, 'f_id_0': 128}\"],\n",
       "       ['0.05986924096941948',\n",
       "        \"{'k0': 12, 'k1': 8, 'k2': 16, 'f_id_0': 64}\"],\n",
       "       ['0.0604129284620285',\n",
       "        \"{'k0': 12, 'k1': 12, 'k2': 16, 'f_id_0': 128}\"]], dtype='<U45')"
      ]
     },
     "execution_count": 65,
     "metadata": {},
     "output_type": "execute_result"
    }
   ],
   "source": [
    "l = sorted(l)\n",
    "l = [[str(s) for s in e] for e in l]\n",
    "results = np.array(l)\n",
    "results"
   ]
  },
  {
   "cell_type": "code",
   "execution_count": null,
   "id": "7ae1a77f",
   "metadata": {},
   "outputs": [],
   "source": [
    "lr_list = [float(e[1][7:-1]) for e in l]\n",
    "value_list = [float(e[0]) for e in l]"
   ]
  },
  {
   "cell_type": "code",
   "execution_count": null,
   "id": "381f8bac",
   "metadata": {},
   "outputs": [],
   "source": [
    "import matplotlib.pyplot as plt\n",
    "plt.plot(lr_list,value_list,'.')\n",
    "plt.grid()"
   ]
  },
  {
   "cell_type": "code",
   "execution_count": null,
   "id": "e2845f24",
   "metadata": {},
   "outputs": [],
   "source": [
    "unique = np.unique(results[:,1])\n",
    "average_score = np.ones((unique.shape[0],2))\n",
    "for n,u in enumerate(unique):\n",
    "    idxs = np.where(results[:,1] == u)[0]\n",
    "    #print(len(idxs), u)\n",
    "    average_score[n,0] = np.sum(np.float64(results[idxs,0]))/len(idxs)\n",
    "    average_score[n,1] = len(idxs)"
   ]
  },
  {
   "cell_type": "code",
   "execution_count": null,
   "id": "ea6815dd",
   "metadata": {},
   "outputs": [],
   "source": [
    "L = [[]]\n",
    "i = 0\n",
    "for s,u in zip(average_score,unique):\n",
    "    L[i].append(s[0])\n",
    "    L[i].append(u)\n",
    "    L[i].append(s[1])\n",
    "    L.append([])\n",
    "    i+=1\n",
    "L = L[:-1]\n",
    "with open(model_name+'/trials_info.txt', 'w') as f:\n",
    "    for l in sorted(L):\n",
    "        f.write(f\"{l}\\n\")"
   ]
  },
  {
   "cell_type": "code",
   "execution_count": null,
   "id": "3b1117b2",
   "metadata": {},
   "outputs": [],
   "source": [
    "results[np.where(results[:,1] == \"{'f_id_0': 64, 'f_id_1': 128, 'f_id_2': 64}\")[0],0]"
   ]
  },
  {
   "cell_type": "code",
   "execution_count": null,
   "id": "4dda1a85",
   "metadata": {},
   "outputs": [],
   "source": [
    "results"
   ]
  },
  {
   "cell_type": "code",
   "execution_count": null,
   "id": "0246f78b",
   "metadata": {},
   "outputs": [],
   "source": []
  }
 ],
 "metadata": {
  "kernelspec": {
   "display_name": "Python 3 (ipykernel)",
   "language": "python",
   "name": "python3"
  },
  "language_info": {
   "codemirror_mode": {
    "name": "ipython",
    "version": 3
   },
   "file_extension": ".py",
   "mimetype": "text/x-python",
   "name": "python",
   "nbconvert_exporter": "python",
   "pygments_lexer": "ipython3",
   "version": "3.8.16"
  }
 },
 "nbformat": 4,
 "nbformat_minor": 5
}
