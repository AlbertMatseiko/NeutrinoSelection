{
 "cells": [
  {
   "cell_type": "code",
   "execution_count": 9,
   "id": "5e3b2863",
   "metadata": {},
   "outputs": [],
   "source": [
    "import numpy as np\n",
    "import h5py as h5\n",
    "\n",
    "import os\n",
    "list_of_files = os.listdir('../data/')  \n",
    "list_of_files = [s for s in list_of_files if '.h5' in s]"
   ]
  },
  {
   "cell_type": "markdown",
   "id": "b4b419ac",
   "metadata": {},
   "source": [
    "Папка Харука"
   ]
  },
  {
   "cell_type": "code",
   "execution_count": 29,
   "id": "6cb44b62",
   "metadata": {},
   "outputs": [
    {
     "name": "stdout",
     "output_type": "stream",
     "text": [
      "baikal_multi_0523_flat_pureMC_h5s2_norm.h5\n",
      "file_nums\n",
      "norm_param\n",
      "test\n",
      "train\n",
      "val\n",
      "[12  5  5]\n",
      "(5556146,) (465253,) (22345821,) \n",
      "\n",
      "[b'mu_1069_30063' b'nuatm_1024_41' b'nue2_1003_2_2' b'nue2_1008_1_3'\n",
      " b'nue2_1008_1_3' b'mu_1073_3632' b'mu_1101_39073' b'mu_1070_21142'\n",
      " b'nuatm_1027_42' b'mu_1032_2805' b'nue2_1004_0_5' b'nue2_1004_0_1'\n",
      " b'nuatm_1024_29' b'nue2_1000_3_1' b'mu_1020_8050' b'mu_1011_25248'\n",
      " b'nue2_1000_3_4' b'mu_1056_18737' b'mu_1091_14178' b'nue2_1000_1_7'\n",
      " b'nue2_1008_2_2' b'nuatm_1027_86' b'mu_1020_9774' b'nue2_1010_3_2'\n",
      " b'nuatm_1017_18' b'nue2_1004_0_1' b'mu_1020_38242' b'mu_1070_25338'\n",
      " b'mu_1070_12842' b'nue2_1002_2_6' b'nue2_1002_2_3' b'mu_1101_34166'\n",
      " b'mu_1133_39830' b'mu_1133_31300' b'nue2_1010_3_1' b'nue2_1013_2_1'\n",
      " b'nue2_1013_2_3' b'nue2_1000_1_2' b'nue2_1002_2_3' b'nue2_1013_2_4'\n",
      " b'mu_1032_9782' b'nue2_1003_2_6' b'nuatm_1027_25' b'nuatm_1011_20'\n",
      " b'mu_1073_24791' b'nue2_1002_2_3' b'nue2_1008_1_3' b'nue2_1010_3_3'\n",
      " b'mu_1011_7288' b'mu_1011_37873' b'mu_1028_23603' b'nue2_1002_2_6'\n",
      " b'mu_1069_67' b'nue2_1010_3_4' b'nue2_1001_2_2' b'nuatm_1024_98'\n",
      " b'mu_1082_39055' b'nue2_1010_3_2' b'nuatm_1027_31' b'nue2_1000_3_4'\n",
      " b'mu_1101_39514' b'mu_1070_9726' b'mu_1011_7256' b'nue2_1008_1_4'\n",
      " b'nuatm_1027_42' b'mu_1032_39312' b'nuatm_1017_42' b'nue2_1003_2_2'\n",
      " b'nue2_1000_3_2' b'nuatm_1024_38' b'mu_1032_5563' b'mu_1070_24170'\n",
      " b'nuatm_1017_32' b'nue2_1000_1_4' b'mu_1073_24843' b'nuatm_1024_13'\n",
      " b'mu_1133_20333' b'nue2_1003_2_4' b'mu_1028_20946' b'mu_1019_11217'\n",
      " b'nue2_1010_3_2' b'nuatm_1027_30' b'mu_1133_9190' b'nuatm_1017_43'\n",
      " b'nue2_1013_2_9' b'nue2_1001_2_4' b'mu_1101_21946' b'mu_1056_5089'\n",
      " b'nuatm_1014_12' b'nue2_1010_3_2' b'nue2_1003_2_4' b'nue2_1008_1_4'\n",
      " b'mu_1091_21963' b'mu_1091_3411' b'nue2_1013_2_3' b'nue2_1013_2_1'\n",
      " b'nue2_1001_2_9' b'nue2_1013_2_2' b'mu_1070_3534' b'mu_1134_1374']\n"
     ]
    }
   ],
   "source": [
    "for name in list_of_files:\n",
    "    print(name)\n",
    "    path_to_h5 = '../data/' + name\n",
    "    with h5.File(path_to_h5, 'r') as hf:\n",
    "        for key in hf.keys():\n",
    "            print(key)\n",
    "        print(hf['file_nums/test'][:])\n",
    "        try:\n",
    "            train_Shape = hf['train/ev_ids_corr/data'].shape\n",
    "            test_Shape = hf['test/ev_ids_corr/data'].shape\n",
    "            val_Shape = hf['val/ev_ids_corr/data'].shape\n",
    "        except: pass\n",
    "        print(train_Shape,test_Shape,val_Shape, '\\n')\n",
    "        print(hf['train/ev_ids_corr/data'][0:100])"
   ]
  },
  {
   "cell_type": "code",
   "execution_count": 76,
   "id": "0efbc051",
   "metadata": {},
   "outputs": [
    {
     "name": "stdout",
     "output_type": "stream",
     "text": [
      "aux_mask\n",
      "norm_param\n",
      "test\n",
      "train\n",
      "val\n",
      "baikal_mu-nu_h5-s2_tres08_old_norm.h5 (16959713, 96, 5) (339979, 96, 5) (338797, 96, 5) \n",
      "\n",
      "[ 4.1610322e+00  1.2426184e+03 -7.2910535e-01  3.2516095e-01\n",
      "  3.9073559e+01] \n",
      "\n",
      "[ 28.856903 506.03458   38.562126  38.77876  141.3174  ] \n",
      "\n",
      "[-0.22324748 -0.32951868 -0.4364129  -0.6488494  -0.86129326  3.\n",
      "  3.          3.          3.          3.        ] \n",
      "\n"
     ]
    }
   ],
   "source": [
    "for name in [\"baikal_mu-nu_h5-s2_tres08_old_norm.h5\"]:\n",
    "    path_to_h5 = '../../../../../ivkhar/Baikal/data/' + name\n",
    "    with h5.File(path_to_h5, 'r') as hf:\n",
    "        for key in hf.keys():\n",
    "            print(key)\n",
    "        train_Shape = hf['train/data/data'].shape\n",
    "        test_Shape = hf['test/data/data'].shape\n",
    "        val_Shape = hf['val/data/data'].shape\n",
    "        print(name, train_Shape,test_Shape,val_Shape, '\\n')\n",
    "        print(hf['norm_param/mean'][:], '\\n')\n",
    "        print(hf['norm_param/std'][:], '\\n')\n",
    "        print( hf['train/data/data'][2,0:10,4], '\\n')"
   ]
  },
  {
   "cell_type": "code",
   "execution_count": null,
   "id": "77bc70fe",
   "metadata": {},
   "outputs": [],
   "source": []
  },
  {
   "cell_type": "code",
   "execution_count": 77,
   "id": "1a49217f",
   "metadata": {},
   "outputs": [
    {
     "name": "stdout",
     "output_type": "stream",
     "text": [
      "[b'nuatm_cl3_sep20_cors_1359.root_4' b'nuatm_cl3_sep20_cors_1359.root_13'\n",
      " b'nuatm_cl3_sep20_cors_1359.root_20' b'nuatm_cl3_sep20_cors_1359.root_26'\n",
      " b'nuatm_cl3_sep20_cors_1359.root_31']\n",
      "[110 110 110 110 110]\n"
     ]
    }
   ],
   "source": [
    "with h5.File(path_to_h5, 'r') as hf:\n",
    "    test_data = hf['test/data/data']\n",
    "    ids = hf['test/ev_ids/data'][:]\n",
    "    labels = np.zeros((len(ids), 2))# id of event - starting with 'nu' or 'mu'\n",
    "    print(ids[0:5])\n",
    "    ids = np.array([i[0] for i in ids])\n",
    "    print(ids[0:5])\n",
    "    labels[:, 1] = np.where(ids == 110, 1, 0)  # 110 - byte code for 'n'\n",
    "    labels[:, 0] = np.where(ids == 109, 1, 0)  # 109 - byte code for 'm'"
   ]
  },
  {
   "cell_type": "code",
   "execution_count": 5,
   "id": "23526a1a",
   "metadata": {},
   "outputs": [
    {
     "name": "stdout",
     "output_type": "stream",
     "text": [
      "(array([122737, 122738, 122739, ..., 339976, 339977, 339978]),)\n"
     ]
    }
   ],
   "source": [
    "print(np.where(labels[:,1] == 0))"
   ]
  },
  {
   "cell_type": "code",
   "execution_count": 6,
   "id": "eb6562df",
   "metadata": {},
   "outputs": [],
   "source": [
    "with h5.File(path_to_h5, 'r') as hf:\n",
    "    Es = hf['train/prime_prty/data'][:,2]\n",
    "    labels = np.zeros((train_Shape[0],2))\n",
    "    ids = hf['train/ev_ids/data'][:]  # id of event - starting with 'nu' or 'mu'\n",
    "    ids = np.array([i[0] for i in ids])\n",
    "    labels[:, 1] = np.where(ids == 110, 1, 0)  # 110 - byte code for 'n'\n",
    "    labels[:, 0] = np.where(ids == 109, 1, 0)  # 109 - byte code for 'm'\n",
    "    labels = labels[:,1]"
   ]
  },
  {
   "cell_type": "code",
   "execution_count": 12,
   "id": "aee67318",
   "metadata": {},
   "outputs": [],
   "source": [
    "E_nu = Es[np.nonzero(np.where(labels == 1., Es, 0))[0]]"
   ]
  },
  {
   "cell_type": "code",
   "execution_count": 13,
   "id": "63ca1246",
   "metadata": {},
   "outputs": [
    {
     "data": {
      "text/plain": [
       "array([ 419.91974 ,  139.72339 ,  877.2412  ,  123.846794,  480.39484 ,\n",
       "       1791.7684  ,  368.18658 ,  515.03107 , 5484.124   ,  274.41272 ],\n",
       "      dtype=float32)"
      ]
     },
     "execution_count": 13,
     "metadata": {},
     "output_type": "execute_result"
    }
   ],
   "source": [
    "E_nu[0:10]"
   ]
  },
  {
   "cell_type": "code",
   "execution_count": 17,
   "id": "3416d62d",
   "metadata": {},
   "outputs": [
    {
     "data": {
      "image/png": "[encoded data removed]",
      "text/plain": [
       "<Figure size 1000x700 with 1 Axes>"
      ]
     },
     "metadata": {},
     "output_type": "display_data"
    }
   ],
   "source": [
    "import matplotlib.pyplot as plt\n",
    "plt.figure(figsize = (10,7))\n",
    "plt.hist(np.log10(E_mu), bins = 200, \n",
    "         histtype = 'stepfilled', density = True, \n",
    "         log = True, color = 'coral', label = 'E_mu, ГэВ')\n",
    "plt.xlabel('log10(E)', fontsize = 14)\n",
    "plt.ylabel('Плотность событий', fontsize = 14)\n",
    "plt.grid()\n",
    "plt.legend(fontsize = 12)\n",
    "plt.show()"
   ]
  },
  {
   "cell_type": "code",
   "execution_count": null,
   "id": "0097fbf6",
   "metadata": {},
   "outputs": [],
   "source": [
    "#### regime = 'train'\n",
    "with h5.File(path_to_h5, 'r') as hf:\n",
    "    labels = np.zeros((train_Shape[0],2))\n",
    "    ids = hf[regime + '/ev_ids/data'][:]  # id of event - starting with 'nu' or 'mu'\n",
    "    ids = np.array([i[0] for i in ids])\n",
    "    labels[:, 1] = np.where(ids == 110, 1, 0)  # 110 - byte code for 'n'\n",
    "    labels[:, 0] = np.where(ids == 109, 1, 0)  # 109 - byte code for 'm'\n",
    "num_nu = len(np.where(labels[:,0] == 0)[0])\n",
    "num_mu = len(np.where(labels[:,0] == 1)[0])"
   ]
  },
  {
   "cell_type": "code",
   "execution_count": 10,
   "id": "75eb32a4",
   "metadata": {},
   "outputs": [
    {
     "name": "stdout",
     "output_type": "stream",
     "text": [
      "6144790 10814923 1.7600150696769132\n"
     ]
    }
   ],
   "source": [
    "print(num_nu,num_mu,num_mu/num_nu)"
   ]
  },
  {
   "cell_type": "code",
   "execution_count": 8,
   "id": "a6ce81ad",
   "metadata": {},
   "outputs": [
    {
     "name": "stdout",
     "output_type": "stream",
     "text": [
      "(1000, 96, 5) (1000, 96, 1)\n",
      "[[-0.10636162 -1.715351   -1.040951    1.0626556  -0.8592693 ]\n",
      " [ 0.13740318 -1.6768655  -1.040951    1.0626556  -0.7530899 ]\n",
      " [-0.11919546 -1.54669    -1.040951    1.0626556  -0.64691067]\n",
      " [-0.09297085 -1.2395531  -0.06805364 -0.00945203 -0.54107094]\n",
      " [ 0.15590955 -1.2091594  -0.06805364 -0.00945203 -0.43483484]\n",
      " [-0.09755693 -1.0797055  -0.06805364 -0.00945203 -0.32859877]\n",
      " [-0.          0.          0.          0.          0.        ]\n",
      " [-0.          0.          0.          0.          0.        ]\n",
      " [-0.          0.          0.          0.          0.        ]\n",
      " [-0.          0.          0.          0.          0.        ]\n",
      " [-0.          0.          0.          0.          0.        ]\n",
      " [-0.          0.          0.          0.          0.        ]\n",
      " [-0.          0.          0.          0.          0.        ]\n",
      " [-0.          0.          0.          0.          0.        ]\n",
      " [-0.          0.          0.          0.          0.        ]\n",
      " [-0.          0.          0.          0.          0.        ]\n",
      " [-0.          0.          0.          0.          0.        ]\n",
      " [-0.          0.          0.          0.          0.        ]\n",
      " [-0.          0.          0.          0.          0.        ]\n",
      " [-0.          0.          0.          0.          0.        ]\n",
      " [-0.          0.          0.          0.          0.        ]\n",
      " [-0.          0.          0.          0.          0.        ]\n",
      " [-0.          0.          0.          0.          0.        ]\n",
      " [-0.          0.          0.          0.          0.        ]\n",
      " [-0.          0.          0.          0.          0.        ]\n",
      " [-0.          0.          0.          0.          0.        ]\n",
      " [-0.          0.          0.          0.          0.        ]\n",
      " [-0.          0.          0.          0.          0.        ]\n",
      " [-0.          0.          0.          0.          0.        ]\n",
      " [-0.          0.          0.          0.          0.        ]\n",
      " [-0.          0.          0.          0.          0.        ]\n",
      " [-0.          0.          0.          0.          0.        ]\n",
      " [-0.          0.          0.          0.          0.        ]\n",
      " [-0.          0.          0.          0.          0.        ]\n",
      " [-0.          0.          0.          0.          0.        ]\n",
      " [-0.          0.          0.          0.          0.        ]\n",
      " [-0.          0.          0.          0.          0.        ]\n",
      " [-0.          0.          0.          0.          0.        ]\n",
      " [-0.          0.          0.          0.          0.        ]\n",
      " [-0.          0.          0.          0.          0.        ]\n",
      " [-0.          0.          0.          0.          0.        ]\n",
      " [-0.          0.          0.          0.          0.        ]\n",
      " [-0.          0.          0.          0.          0.        ]\n",
      " [-0.          0.          0.          0.          0.        ]\n",
      " [-0.          0.          0.          0.          0.        ]\n",
      " [-0.          0.          0.          0.          0.        ]\n",
      " [-0.          0.          0.          0.          0.        ]\n",
      " [-0.          0.          0.          0.          0.        ]\n",
      " [-0.          0.          0.          0.          0.        ]\n",
      " [-0.          0.          0.          0.          0.        ]\n",
      " [-0.          0.          0.          0.          0.        ]\n",
      " [-0.          0.          0.          0.          0.        ]\n",
      " [-0.          0.          0.          0.          0.        ]\n",
      " [-0.          0.          0.          0.          0.        ]\n",
      " [-0.          0.          0.          0.          0.        ]\n",
      " [-0.          0.          0.          0.          0.        ]\n",
      " [-0.          0.          0.          0.          0.        ]\n",
      " [-0.          0.          0.          0.          0.        ]\n",
      " [-0.          0.          0.          0.          0.        ]\n",
      " [-0.          0.          0.          0.          0.        ]\n",
      " [-0.          0.          0.          0.          0.        ]\n",
      " [-0.          0.          0.          0.          0.        ]\n",
      " [-0.          0.          0.          0.          0.        ]\n",
      " [-0.          0.          0.          0.          0.        ]\n",
      " [-0.          0.          0.          0.          0.        ]\n",
      " [-0.          0.          0.          0.          0.        ]\n",
      " [-0.          0.          0.          0.          0.        ]\n",
      " [-0.          0.          0.          0.          0.        ]\n",
      " [-0.          0.          0.          0.          0.        ]\n",
      " [-0.          0.          0.          0.          0.        ]\n",
      " [-0.          0.          0.          0.          0.        ]\n",
      " [-0.          0.          0.          0.          0.        ]\n",
      " [-0.          0.          0.          0.          0.        ]\n",
      " [-0.          0.          0.          0.          0.        ]\n",
      " [-0.          0.          0.          0.          0.        ]\n",
      " [-0.          0.          0.          0.          0.        ]\n",
      " [-0.          0.          0.          0.          0.        ]\n",
      " [-0.          0.          0.          0.          0.        ]\n",
      " [-0.          0.          0.          0.          0.        ]\n",
      " [-0.          0.          0.          0.          0.        ]\n",
      " [-0.          0.          0.          0.          0.        ]\n",
      " [-0.          0.          0.          0.          0.        ]\n",
      " [-0.          0.          0.          0.          0.        ]\n",
      " [-0.          0.          0.          0.          0.        ]\n",
      " [-0.          0.          0.          0.          0.        ]\n",
      " [-0.          0.          0.          0.          0.        ]\n",
      " [-0.          0.          0.          0.          0.        ]\n",
      " [-0.          0.          0.          0.          0.        ]\n",
      " [-0.          0.          0.          0.          0.        ]\n",
      " [-0.          0.          0.          0.          0.        ]\n",
      " [-0.          0.          0.          0.          0.        ]\n",
      " [-0.          0.          0.          0.          0.        ]\n",
      " [-0.          0.          0.          0.          0.        ]\n",
      " [-0.          0.          0.          0.          0.        ]\n",
      " [-0.          0.          0.          0.          0.        ]\n",
      " [-0.          0.          0.          0.          0.        ]]\n"
     ]
    }
   ],
   "source": [
    "with h5.File(path_to_h5, 'r') as hf:\n",
    "    data = hf['train/data/data'][:,:,4]\n",
    "    mask = hf['train/mask/data'][0:1000]\n",
    "    mask = np.expand_dims(mask,axis = -1)\n",
    "    print(data.shape, mask.shape)\n",
    "    data = np.concatenate((data,mask),axis = -1)\n",
    "data = data[:,:,:-1]\n",
    "print(data[6]*mask[6])"
   ]
  },
  {
   "cell_type": "code",
   "execution_count": null,
   "id": "5836eb75",
   "metadata": {},
   "outputs": [
    {
     "name": "stderr",
     "output_type": "stream",
     "text": [
      "2023-03-05 00:38:46.172498: I tensorflow/core/platform/cpu_feature_guard.cc:193] This TensorFlow binary is optimized with oneAPI Deep Neural Network Library (oneDNN) to use the following CPU instructions in performance-critical operations:  AVX2 FMA\n",
      "To enable them in other operations, rebuild TensorFlow with the appropriate compiler flags.\n",
      "2023-03-05 00:38:47.132176: W tensorflow/compiler/xla/stream_executor/platform/default/dso_loader.cc:64] Could not load dynamic library 'libnvinfer.so.7'; dlerror: libnvinfer.so.7: cannot open shared object file: No such file or directory; LD_LIBRARY_PATH: :/home/albert/miniconda3/envs/Baikal2/lib/\n",
      "2023-03-05 00:38:47.132263: W tensorflow/compiler/xla/stream_executor/platform/default/dso_loader.cc:64] Could not load dynamic library 'libnvinfer_plugin.so.7'; dlerror: libnvinfer_plugin.so.7: cannot open shared object file: No such file or directory; LD_LIBRARY_PATH: :/home/albert/miniconda3/envs/Baikal2/lib/\n",
      "2023-03-05 00:38:47.132272: W tensorflow/compiler/tf2tensorrt/utils/py_utils.cc:38] TF-TRT Warning: Cannot dlopen some TensorRT libraries. If you would like to use Nvidia GPU with TensorRT, please make sure the missing libraries mentioned above are installed properly.\n"
     ]
    }
   ],
   "source": [
    "import tensorflow.keras.layers as tfl\n",
    "print(tfl.MaxPooling1D((2), strides=2)(mask[0]))"
   ]
  },
  {
   "cell_type": "markdown",
   "id": "4bea84fe",
   "metadata": {},
   "source": [
    "Папка моя"
   ]
  },
  {
   "cell_type": "code",
   "execution_count": 80,
   "id": "75b7ce4c",
   "metadata": {},
   "outputs": [
    {
     "name": "stdout",
     "output_type": "stream",
     "text": [
      "file_nums\n",
      "norm_param\n",
      "test\n",
      "train\n",
      "val\n",
      "<KeysViewHDF5 ['channels', 'data', 'ev_ids_corr', 'ev_starts', 'labels', 't_res']>\n",
      "(465253,) [b'mu_1138_2' b'mu_1138_2571' b'mu_1138_5118' b'mu_1138_7698'\n",
      " b'mu_1138_10251' b'mu_1138_12876' b'mu_1138_15377' b'mu_1138_17919'\n",
      " b'mu_1138_20564' b'mu_1138_23150' b'mu_1138_25670' b'mu_1138_28316'\n",
      " b'mu_1138_31011' b'mu_1138_33604' b'mu_1138_36183' b'mu_1138_38695'\n",
      " b'mu_1138_41317' b'mu_1138_43923' b'mu_1138_28047' b'mu_1139_1572'\n",
      " b'mu_1139_4153' b'mu_1139_6600' b'mu_1139_8985' b'mu_1139_11371'\n",
      " b'mu_1139_13840' b'mu_1139_16223' b'mu_1139_18695' b'mu_1139_21151'\n",
      " b'mu_1139_23551' b'mu_1139_25971' b'mu_1139_28250' b'mu_1139_30674'\n",
      " b'mu_1139_33209' b'mu_1139_35673' b'mu_1139_38128' b'mu_1139_40550'\n",
      " b'mu_1139_42939' b'mu_1139_14554' b'mu_1140_708' b'mu_1140_3236'\n",
      " b'mu_1140_5773' b'mu_1140_8198' b'mu_1140_10769' b'mu_1140_13229'\n",
      " b'mu_1140_15678' b'mu_1140_18085' b'mu_1140_20571' b'mu_1140_23126'\n",
      " b'mu_1140_25543' b'mu_1140_28015' b'mu_1140_30565' b'mu_1140_33017'\n",
      " b'mu_1140_35511' b'mu_1140_38134' b'mu_1140_40657' b'mu_1140_43124'\n",
      " b'mu_1140_13329' b'mu_1141_882' b'mu_1141_3380' b'mu_1141_5791'\n",
      " b'mu_1141_8173' b'mu_1141_10558' b'mu_1141_13075' b'mu_1141_15452'\n",
      " b'mu_1141_18051' b'mu_1141_20494' b'mu_1141_22928' b'mu_1141_25384'\n",
      " b'mu_1141_27865' b'mu_1141_30278' b'mu_1141_32779' b'mu_1141_35107'\n",
      " b'mu_1141_37582' b'mu_1141_40004' b'mu_1141_42295' b'mu_1141_44752'\n",
      " b'mu_1141_42093' b'mu_1142_2309' b'mu_1142_4772' b'mu_1142_7282'\n",
      " b'mu_1142_9733' b'mu_1142_12158' b'mu_1142_14581' b'mu_1142_16997'\n",
      " b'mu_1142_19467' b'mu_1142_21937' b'mu_1142_24363' b'mu_1142_26754'\n",
      " b'mu_1142_29256' b'mu_1142_31657' b'mu_1142_34129' b'mu_1142_36529'\n",
      " b'mu_1142_39000' b'mu_1142_41405' b'mu_1142_43810' b'mu_1142_31109'\n",
      " b'mu_1143_1792' b'mu_1143_4272' b'mu_1143_6730' b'mu_1143_9218'\n",
      " b'mu_1143_11663' b'mu_1143_14147' b'mu_1143_16575' b'mu_1143_19152'\n",
      " b'mu_1143_21760' b'mu_1143_24150' b'mu_1143_26474' b'mu_1143_28887'\n",
      " b'mu_1143_31325' b'mu_1143_33810' b'mu_1143_36245' b'mu_1143_38640'\n",
      " b'mu_1143_41180' b'mu_1143_43659' b'mu_1143_18672' b'mu_1144_852'\n",
      " b'mu_1144_3249' b'mu_1144_5783' b'mu_1144_8156' b'mu_1144_10607'\n",
      " b'mu_1144_13071' b'mu_1144_15590' b'mu_1144_18001' b'mu_1144_20379'\n",
      " b'mu_1144_22740' b'mu_1144_25175' b'mu_1144_27531' b'mu_1144_29849'\n",
      " b'mu_1144_32367' b'mu_1144_34786' b'mu_1144_37233' b'mu_1144_39646'\n",
      " b'mu_1144_42104' b'mu_1144_44628' b'mu_1144_40014' b'mu_1145_2233'\n",
      " b'mu_1145_4579' b'mu_1145_7000' b'mu_1145_9490' b'mu_1145_11984'\n",
      " b'mu_1145_14471' b'mu_1145_16985' b'mu_1145_19382' b'mu_1145_21847'\n",
      " b'mu_1145_24265' b'mu_1145_26711' b'mu_1145_29219' b'mu_1145_31686'\n",
      " b'mu_1145_34131' b'mu_1145_36570' b'mu_1145_39024' b'mu_1145_41448'\n",
      " b'mu_1145_43870' b'mu_1145_25357' b'mu_1146_1322' b'mu_1146_3753'\n",
      " b'mu_1146_6190' b'mu_1146_8608' b'mu_1146_11018' b'mu_1146_13434'\n",
      " b'mu_1146_15924' b'mu_1146_18337' b'mu_1146_20811' b'mu_1146_23259'\n",
      " b'mu_1146_25661' b'mu_1146_28131' b'mu_1146_30516' b'mu_1146_32916'\n",
      " b'mu_1146_35396' b'mu_1146_37811' b'mu_1146_40316' b'mu_1146_42683'\n",
      " b'mu_1146_6161' b'mu_1147_474' b'mu_1147_3071' b'mu_1147_5704'\n",
      " b'mu_1147_8323' b'mu_1147_11050' b'mu_1147_13494' b'mu_1147_16161'\n",
      " b'mu_1147_18616' b'mu_1147_21222' b'mu_1147_23754' b'mu_1147_26278'\n",
      " b'mu_1147_28940' b'mu_1147_31573' b'mu_1147_34275' b'mu_1147_36874'\n",
      " b'mu_1147_39397' b'mu_1147_41919' b'mu_1147_44572' b'mu_1147_38666'\n",
      " b'mu_1148_2156' b'mu_1148_4675' b'mu_1148_7199' b'mu_1148_9725'\n",
      " b'mu_1148_12321' b'mu_1148_14811' b'mu_1148_17251' b'mu_1148_19800'\n",
      " b'mu_1148_22346' b'mu_1148_24887' b'mu_1148_27397' b'mu_1148_29898'\n",
      " b'mu_1148_32383' b'mu_1148_34887' b'mu_1148_37395' b'mu_1148_39851'\n",
      " b'mu_1148_42380' b'mu_1148_6162' b'mu_1149_364' b'mu_1149_2821'\n",
      " b'mu_1149_5300' b'mu_1149_7628' b'mu_1149_10037' b'mu_1149_12536'\n",
      " b'mu_1149_14936' b'mu_1149_17360' b'mu_1149_19887' b'mu_1149_22285'\n",
      " b'mu_1149_24755' b'mu_1149_27138' b'mu_1149_29517' b'mu_1149_32031'\n",
      " b'mu_1149_34474' b'mu_1149_36916' b'mu_1149_39378' b'mu_1149_41792'\n",
      " b'mu_1149_44253' b'mu_1149_39932' b'nuatm_1033_33' b'nuatm_1033_71'\n",
      " b'nuatm_1033_10' b'nuatm_1033_14' b'nuatm_1033_18' b'nuatm_1033_22'\n",
      " b'nuatm_1033_25' b'nuatm_1033_29' b'nuatm_1033_33' b'nuatm_1033_37'\n",
      " b'nuatm_1033_40' b'nuatm_1033_44' b'nuatm_1033_48' b'nuatm_1033_52'\n",
      " b'nuatm_1034_86' b'nuatm_1034_49' b'nuatm_1034_90' b'nuatm_1034_13'\n",
      " b'nuatm_1034_17' b'nuatm_1034_21' b'nuatm_1034_25' b'nuatm_1034_29'\n",
      " b'nuatm_1034_33' b'nuatm_1034_37' b'nuatm_1034_42' b'nuatm_1034_46'\n",
      " b'nuatm_1034_50' b'nuatm_1034_16' b'nuatm_1035_33' b'nuatm_1035_71'\n",
      " b'nuatm_1035_10' b'nuatm_1035_14' b'nuatm_1035_18' b'nuatm_1035_22'\n",
      " b'nuatm_1035_26' b'nuatm_1035_30' b'nuatm_1035_33' b'nuatm_1035_37'\n",
      " b'nuatm_1035_41' b'nuatm_1035_45' b'nuatm_1035_49' b'nuatm_1035_53'\n",
      " b'nuatm_1036_27' b'nuatm_1036_64' b'nuatm_1036_10' b'nuatm_1036_13'\n",
      " b'nuatm_1036_17' b'nuatm_1036_21' b'nuatm_1036_25' b'nuatm_1036_28'\n",
      " b'nuatm_1036_32' b'nuatm_1036_36' b'nuatm_1036_39' b'nuatm_1036_43'\n",
      " b'nuatm_1036_47' b'nuatm_1036_50' b'nuatm_1036_36' b'nuatm_1037_35'\n",
      " b'nuatm_1037_72' b'nuatm_1037_11' b'nuatm_1037_14' b'nuatm_1037_18'\n",
      " b'nuatm_1037_22' b'nuatm_1037_26' b'nuatm_1037_29' b'nuatm_1037_33'\n",
      " b'nuatm_1037_37' b'nuatm_1037_40' b'nuatm_1037_44' b'nuatm_1037_48'\n",
      " b'nuatm_1037_51' b'nue2_1017_0_4' b'nue2_1017_0_1' b'nue2_1017_0_3'\n",
      " b'nue2_1017_0_4' b'nue2_1017_0_6' b'nue2_1017_0_7' b'nue2_1017_0_8'\n",
      " b'nue2_1017_0_1' b'nue2_1017_0_1' b'nue2_1017_0_1' b'nue2_1017_0_1'\n",
      " b'nue2_1017_0_1' b'nue2_1017_0_1' b'nue2_1017_0_1' b'nue2_1017_0_2'\n",
      " b'nue2_1017_0_2' b'nue2_1017_0_2' b'nue2_1017_0_2' b'nue2_1017_0_2'\n",
      " b'nue2_1017_0_2' b'nue2_1017_0_2' b'nue2_1017_0_3' b'nue2_1017_0_3'\n",
      " b'nue2_1017_0_3' b'nue2_1017_0_3' b'nue2_1017_0_3' b'nue2_1017_0_3'\n",
      " b'nue2_1017_0_3' b'nue2_1017_0_4' b'nue2_1017_0_4' b'nue2_1017_0_4'\n",
      " b'nue2_1017_0_4' b'nue2_1017_0_4' b'nue2_1017_0_4' b'nue2_1017_0_4'\n",
      " b'nue2_1017_0_5' b'nue2_1017_0_1' b'nue2_1017_0_2' b'nue2_1017_0_2'\n",
      " b'nue2_1017_0_3' b'nue2_1017_0_4' b'nue2_1017_1_8' b'nue2_1017_1_1'\n",
      " b'nue2_1017_1_2' b'nue2_1017_1_4' b'nue2_1017_1_5' b'nue2_1017_1_7'\n",
      " b'nue2_1017_1_8' b'nue2_1017_1_1' b'nue2_1017_1_1' b'nue2_1017_1_1'\n",
      " b'nue2_1017_1_1' b'nue2_1017_1_1' b'nue2_1017_1_1' b'nue2_1017_1_1'\n",
      " b'nue2_1017_1_2' b'nue2_1017_1_2' b'nue2_1017_1_2' b'nue2_1017_1_2'\n",
      " b'nue2_1017_1_2' b'nue2_1017_1_2' b'nue2_1017_1_2' b'nue2_1017_1_3'\n",
      " b'nue2_1017_1_3' b'nue2_1017_1_3' b'nue2_1017_1_3' b'nue2_1017_1_3'\n",
      " b'nue2_1017_1_3' b'nue2_1017_1_3' b'nue2_1017_1_4' b'nue2_1017_1_4'\n",
      " b'nue2_1017_1_4' b'nue2_1017_1_4' b'nue2_1017_1_4' b'nue2_1017_1_4'\n",
      " b'nue2_1017_1_4' b'nue2_1017_1_3' b'nue2_1017_1_1' b'nue2_1017_1_1'\n",
      " b'nue2_1017_1_2' b'nue2_1017_1_3' b'nue2_1017_1_4' b'nue2_1017_1_4'\n",
      " b'nue2_1017_2_1' b'nue2_1017_2_2' b'nue2_1017_2_4' b'nue2_1017_2_5'\n",
      " b'nue2_1017_2_7' b'nue2_1017_2_8' b'nue2_1017_2_9' b'nue2_1017_2_1'\n",
      " b'nue2_1017_2_1' b'nue2_1017_2_1' b'nue2_1017_2_1' b'nue2_1017_2_1'\n",
      " b'nue2_1017_2_1' b'nue2_1017_2_2' b'nue2_1017_2_2' b'nue2_1017_2_2'\n",
      " b'nue2_1017_2_2' b'nue2_1017_2_2' b'nue2_1017_2_2' b'nue2_1017_2_2'\n",
      " b'nue2_1017_2_3' b'nue2_1017_2_3' b'nue2_1017_2_3' b'nue2_1017_2_3'\n",
      " b'nue2_1017_2_3' b'nue2_1017_2_3' b'nue2_1017_2_3' b'nue2_1017_2_4'\n",
      " b'nue2_1017_2_4' b'nue2_1017_2_4' b'nue2_1017_2_4' b'nue2_1017_2_4'\n",
      " b'nue2_1017_2_4' b'nue2_1017_2_4' b'nue2_1017_2_3' b'nue2_1017_2_1'\n",
      " b'nue2_1017_2_1' b'nue2_1017_2_2' b'nue2_1017_2_3' b'nue2_1017_2_4'\n",
      " b'nue2_1017_2_4' b'nue2_1017_3_1' b'nue2_1017_3_2' b'nue2_1017_3_4'\n",
      " b'nue2_1017_3_5' b'nue2_1017_3_7' b'nue2_1017_3_8' b'nue2_1017_3_9'\n",
      " b'nue2_1017_3_1' b'nue2_1017_3_1' b'nue2_1017_3_1' b'nue2_1017_3_1'\n",
      " b'nue2_1017_3_1' b'nue2_1017_3_1' b'nue2_1017_3_2' b'nue2_1017_3_2'\n",
      " b'nue2_1017_3_2' b'nue2_1017_3_2' b'nue2_1017_3_2' b'nue2_1017_3_2'\n",
      " b'nue2_1017_3_2' b'nue2_1017_3_3' b'nue2_1017_3_3' b'nue2_1017_3_3'\n",
      " b'nue2_1017_3_3' b'nue2_1017_3_3' b'nue2_1017_3_3' b'nue2_1017_3_3'\n",
      " b'nue2_1017_3_4' b'nue2_1017_3_4' b'nue2_1017_3_4' b'nue2_1017_3_4'\n",
      " b'nue2_1017_3_4' b'nue2_1017_3_4' b'nue2_1017_3_4' b'nue2_1017_3_2'\n",
      " b'nue2_1017_3_9' b'nue2_1017_3_1' b'nue2_1017_3_2' b'nue2_1017_3_3'\n",
      " b'nue2_1017_3_4' b'nue2_1017_3_4']\n",
      "[-999999 1000001 1000001 1000001 1000001 1000001 -999999]\n",
      "[6713597 6713632 6713662 6713732 6713763 6713781 6713798 6713889 6713960\n",
      " 6714044]\n",
      "(465254,)\n",
      "(6714044, 5)\n"
     ]
    }
   ],
   "source": [
    "import numpy as np\n",
    "import h5py as h5\n",
    "\n",
    "name = 'baikal_multi_0523_flat_pureMC_h5s2_norm.h5'\n",
    "path_to_h5 = '../data/' + name\n",
    "regime = 'test'\n",
    "with h5.File(path_to_h5, 'r') as hf:\n",
    "    for key in hf.keys():\n",
    "        print(key)\n",
    "    print(hf[regime].keys())\n",
    "    print(hf[regime + '/ev_ids_corr/data'].shape, hf[regime + '/ev_ids_corr/data'][0:1000000:1000])\n",
    "    train = hf[regime + '/data/data'][:]\n",
    "    ev_starts = hf[regime + '/ev_starts/data'][:]\n",
    "    print(hf[regime + '/labels/data'][ev_starts[0]:ev_starts[1]])\n",
    "    print(ev_starts[-10:])\n",
    "    print(hf[regime + '/ev_starts/data'].shape)\n",
    "    #print(hf[regime + '/ev_starts/data'].shape)\n",
    "    print(train.shape)"
   ]
  },
  {
   "cell_type": "code",
   "execution_count": 67,
   "id": "ae12d668",
   "metadata": {},
   "outputs": [
    {
     "name": "stdout",
     "output_type": "stream",
     "text": [
      "[12  5  5]\n",
      "[399  20 358]\n",
      "[120  30  70]\n"
     ]
    }
   ],
   "source": [
    "regime = 'test'\n",
    "with h5.File(path_to_h5, 'r') as hf:\n",
    "    print(hf['/file_nums/test'][:])\n",
    "    print(hf['/file_nums/val'][:])\n",
    "    print(hf['/file_nums/train'][:])"
   ]
  },
  {
   "cell_type": "code",
   "execution_count": 4,
   "id": "855ce747",
   "metadata": {},
   "outputs": [
    {
     "name": "stdout",
     "output_type": "stream",
     "text": [
      "file_nums\n",
      "norm_param\n",
      "test\n",
      "train\n",
      "val\n",
      "baikal_multi_0523_flat_pureMC_h5s2_norm.h5 (90805795, 5) (6714044, 5) (404139140, 5) \n",
      "\n"
     ]
    }
   ],
   "source": [
    "with h5.File(path_to_h5, 'r') as hf:\n",
    "    for key in hf.keys():\n",
    "        print(key)\n",
    "    train_Shape = hf['train/data/data'].shape\n",
    "    test_Shape = hf['test/data/data'].shape\n",
    "    val_Shape = hf['val/data/data'].shape\n",
    "print(name, train_Shape,test_Shape,val_Shape, '\\n')"
   ]
  },
  {
   "cell_type": "code",
   "execution_count": 5,
   "id": "1c44e0b3",
   "metadata": {},
   "outputs": [
    {
     "name": "stderr",
     "output_type": "stream",
     "text": [
      "2023-07-29 19:04:26.851995: I tensorflow/core/platform/cpu_feature_guard.cc:193] This TensorFlow binary is optimized with oneAPI Deep Neural Network Library (oneDNN) to use the following CPU instructions in performance-critical operations:  AVX2 FMA\n",
      "To enable them in other operations, rebuild TensorFlow with the appropriate compiler flags.\n",
      "2023-07-29 19:04:27.641623: W tensorflow/compiler/xla/stream_executor/platform/default/dso_loader.cc:64] Could not load dynamic library 'libnvinfer.so.7'; dlerror: libnvinfer.so.7: cannot open shared object file: No such file or directory; LD_LIBRARY_PATH: :/home/albert/miniconda3/envs/Baikal2/lib/:/home/albert/miniconda3/envs/Baikal2/lib/:/home/albert/miniconda3/envs/Baikal2/lib/:/home/albert/miniconda3/envs/Baikal2/lib/:/home/albert/miniconda3/envs/Baikal2/lib/:/home/albert/miniconda3/envs/Baikal2/lib/:/home/albert/miniconda3/envs/Baikal2/lib/:/home/albert/miniconda3/envs/Baikal2/lib/:/home/albert/miniconda3/envs/Baikal2/lib/\n",
      "2023-07-29 19:04:27.641696: W tensorflow/compiler/xla/stream_executor/platform/default/dso_loader.cc:64] Could not load dynamic library 'libnvinfer_plugin.so.7'; dlerror: libnvinfer_plugin.so.7: cannot open shared object file: No such file or directory; LD_LIBRARY_PATH: :/home/albert/miniconda3/envs/Baikal2/lib/:/home/albert/miniconda3/envs/Baikal2/lib/:/home/albert/miniconda3/envs/Baikal2/lib/:/home/albert/miniconda3/envs/Baikal2/lib/:/home/albert/miniconda3/envs/Baikal2/lib/:/home/albert/miniconda3/envs/Baikal2/lib/:/home/albert/miniconda3/envs/Baikal2/lib/:/home/albert/miniconda3/envs/Baikal2/lib/:/home/albert/miniconda3/envs/Baikal2/lib/\n",
      "2023-07-29 19:04:27.641704: W tensorflow/compiler/tf2tensorrt/utils/py_utils.cc:38] TF-TRT Warning: Cannot dlopen some TensorRT libraries. If you would like to use Nvidia GPU with TensorRT, please make sure the missing libraries mentioned above are installed properly.\n",
      "2023-07-29 19:04:31.667172: I tensorflow/core/platform/cpu_feature_guard.cc:193] This TensorFlow binary is optimized with oneAPI Deep Neural Network Library (oneDNN) to use the following CPU instructions in performance-critical operations:  AVX2 FMA\n",
      "To enable them in other operations, rebuild TensorFlow with the appropriate compiler flags.\n",
      "2023-07-29 19:04:35.066078: I tensorflow/core/common_runtime/gpu/gpu_device.cc:1613] Created device /job:localhost/replica:0/task:0/device:GPU:0 with 22293 MB memory:  -> device: 0, name: NVIDIA GeForce RTX 3090, pci bus id: 0000:21:00.0, compute capability: 8.6\n"
     ]
    }
   ],
   "source": [
    "import tensorflow as tf\n",
    "regime = 'train'\n",
    "with h5.File(path_to_h5, 'r') as hf:\n",
    "    data = hf[regime + '/data/data'][:]\n",
    "    ev_starts = hf[regime + '/ev_starts/data'][:]\n",
    "rt = tf.RaggedTensor.from_row_starts(values=data[:ev_starts[10]],\n",
    "                                row_starts=ev_starts[0:10])"
   ]
  },
  {
   "cell_type": "code",
   "execution_count": 8,
   "id": "8842ebdd",
   "metadata": {},
   "outputs": [
    {
     "data": {
      "text/plain": [
       "<tf.Tensor: shape=(10, 5), dtype=float32, numpy=\n",
       "array([[-0.07267179,  0.6110157 ,  1.4680302 ,  0.1975637 ,  0.4778178 ],\n",
       "       [-0.0769609 ,  0.76409936,  1.4680302 ,  0.1975637 ,  0.57820535],\n",
       "       [-0.09817171,  0.7666385 ,  1.4680302 ,  0.1975637 ,  0.57820535],\n",
       "       [-0.10117593,  0.9345189 ,  1.4680302 ,  0.1975637 ,  0.6785993 ],\n",
       "       [-0.09570307,  1.0946621 ,  0.688631  ,  1.3187944 ,  0.6919485 ],\n",
       "       [-0.09702905,  1.3330995 ,  1.4680302 ,  0.1975637 ,  0.87938106],\n",
       "       [-0.09588054,  1.4180778 ,  1.4680302 ,  0.1975637 ,  0.9797685 ],\n",
       "       [-0.09533803,  2.0758114 , -0.01511572,  0.01389199,  1.3814181 ],\n",
       "       [-0.08908322,  2.2041867 , -0.01511572,  0.01389199,  1.4816853 ],\n",
       "       [-0.08185903,  2.3081567 , -0.01511572,  0.01389199,  1.5819522 ]],\n",
       "      dtype=float32)>"
      ]
     },
     "execution_count": 8,
     "metadata": {},
     "output_type": "execute_result"
    }
   ],
   "source": [
    "rt[0]"
   ]
  },
  {
   "cell_type": "code",
   "execution_count": 12,
   "id": "138c18a0",
   "metadata": {},
   "outputs": [
    {
     "name": "stdout",
     "output_type": "stream",
     "text": [
      "2223 5\n"
     ]
    }
   ],
   "source": [
    "lengths = ev_starts[1:] - ev_starts[0:-1]\n",
    "print(max(lengths), min(lengths))"
   ]
  },
  {
   "cell_type": "code",
   "execution_count": 11,
   "id": "fae244e4",
   "metadata": {},
   "outputs": [
    {
     "data": {
      "text/plain": [
       "<function matplotlib.pyplot.show(close=None, block=None)>"
      ]
     },
     "execution_count": 11,
     "metadata": {},
     "output_type": "execute_result"
    },
    {
     "data": {
      "image/png": "[encoded data removed]",
      "text/plain": [
       "<Figure size 640x480 with 1 Axes>"
      ]
     },
     "metadata": {},
     "output_type": "display_data"
    }
   ],
   "source": [
    "import matplotlib.pyplot as plt\n",
    "plt.hist(np.log10(lengths[np.nonzero(lengths)[0]]), bins = 200, \n",
    "         histtype = 'stepfilled', density = True, \n",
    "         log = True, color = 'coral', label = 'Распределение длин событий')\n",
    "#plt.xscale(\"log\")\n",
    "plt.show"
   ]
  },
  {
   "cell_type": "code",
   "execution_count": 81,
   "id": "2469b12e",
   "metadata": {},
   "outputs": [
    {
     "data": {
      "text/plain": [
       "0.036658244457577434"
      ]
     },
     "execution_count": 81,
     "metadata": {},
     "output_type": "execute_result"
    }
   ],
   "source": [
    "np.where(lengths==0)[0].shape[0]/lengths.shape[0]"
   ]
  },
  {
   "cell_type": "code",
   "execution_count": 87,
   "id": "fad91324",
   "metadata": {},
   "outputs": [
    {
     "data": {
      "text/plain": [
       "array([       0,        1,        2, ..., 10815845, 10815846, 10815847])"
      ]
     },
     "execution_count": 87,
     "metadata": {},
     "output_type": "execute_result"
    }
   ],
   "source": [
    "np.nonzero(lengths)[0]"
   ]
  },
  {
   "cell_type": "code",
   "execution_count": null,
   "id": "2d6a05a0",
   "metadata": {},
   "outputs": [],
   "source": []
  }
 ],
 "metadata": {
  "kernelspec": {
   "display_name": "Python 3 (ipykernel)",
   "language": "python",
   "name": "python3"
  },
  "language_info": {
   "codemirror_mode": {
    "name": "ipython",
    "version": 3
   },
   "file_extension": ".py",
   "mimetype": "text/x-python",
   "name": "python",
   "nbconvert_exporter": "python",
   "pygments_lexer": "ipython3",
   "version": "3.8.16"
  }
 },
 "nbformat": 4,
 "nbformat_minor": 5
}
