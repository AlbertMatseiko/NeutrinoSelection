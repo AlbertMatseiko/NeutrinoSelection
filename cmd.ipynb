{
 "cells": [
  {
   "cell_type": "code",
   "execution_count": null,
   "id": "564c7436",
   "metadata": {},
   "outputs": [],
   "source": [
    "! ps -aux | grep albert"
   ]
  },
  {
   "cell_type": "code",
   "execution_count": null,
   "id": "8d3e4f3b",
   "metadata": {
    "tags": []
   },
   "outputs": [],
   "source": [
    "from IPython.display import clear_output\n",
    "import time \n",
    "while True:\n",
    "    clear_output(wait=True)\n",
    "    ! nvidia-smi\n",
    "    #! free\n",
    "    time.sleep(0.5)\n",
    "    pass"
   ]
  },
  {
   "cell_type": "code",
   "execution_count": null,
   "id": "ef512d73-cd55-4b08-9b10-8389f0c074c2",
   "metadata": {},
   "outputs": [],
   "source": []
  }
 ],
 "metadata": {
  "kernelspec": {
   "display_name": "Python 3 (ipykernel)",
   "language": "python",
   "name": "python3"
  },
  "language_info": {
   "codemirror_mode": {
    "name": "ipython",
    "version": 3
   },
   "file_extension": ".py",
   "mimetype": "text/x-python",
   "name": "python",
   "nbconvert_exporter": "python",
   "pygments_lexer": "ipython3",
   "version": "3.8.17"
  }
 },
 "nbformat": 4,
 "nbformat_minor": 5
}
