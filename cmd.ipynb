{
 "cells": [
  {
   "cell_type": "code",
   "execution_count": 1,
   "id": "564c7436",
   "metadata": {},
   "outputs": [
    {
     "name": "stdout",
     "output_type": "stream",
     "text": [
      "/bin/bash: /home/albert/miniconda3/envs/Baikal2/lib/libtinfo.so.6: no version information available (required by /bin/bash)\r\n",
      "albert     79215  0.0  0.0  18840  2216 ?        Ss   Mar13   0:01 /lib/systemd/systemd --user\r\n",
      "albert     79216  0.0  0.0 170628   124 ?        S    Mar13   0:00 (sd-pam)\r\n",
      "albert     79260  0.0  0.0   7256  2792 ?        Ss   Mar13   0:00 /usr/bin/dbus-daemon --session --address=systemd: --nofork --nopidfile --systemd-activation --syslog-only\r\n",
      "root      313510  0.0  0.0  13728  2708 ?        Ss   May29   0:00 sshd: albert [priv]\r\n",
      "albert    313676  0.0  0.0  13912  2748 ?        S    May29   0:00 sshd: albert\r\n",
      "root      313677  0.0  0.0  13732  2792 ?        Ss   May29   0:00 sshd: albert [priv]\r\n",
      "albert    313822  0.0  0.0  14212  3972 ?        S    May29   4:52 sshd: albert\r\n",
      "albert    807162  0.0  0.0   8812  1940 ?        Ss   Aug24   0:00 SCREEN\r\n",
      "albert    807163  0.0  0.0  10112  3460 pts/11   Ss+  Aug24   0:00 /bin/bash\r\n",
      "root      872259  0.0  0.0  13728  2676 ?        Ss   Jun02   0:00 sshd: albert [priv]\r\n",
      "albert    872606  0.0  0.0  13736  1528 ?        S    Jun02   0:00 sshd: albert\r\n",
      "root      883922  0.0  0.0  13724  2760 ?        Ss   Jun02   0:00 sshd: albert [priv]\r\n",
      "albert    884182  0.0  0.0  13732  1484 ?        S    Jun02   0:00 sshd: albert\r\n",
      "root      908799  0.0  0.0  13720  2632 ?        Ss   Jun03   0:00 sshd: albert [priv]\r\n",
      "albert    909120  0.0  0.0  13728  1492 ?        S    Jun03   0:00 sshd: albert\r\n",
      "root      909957  0.0  0.0  13724  2664 ?        Ss   Jun03   0:00 sshd: albert [priv]\r\n",
      "albert    910101  0.0  0.0  13732  1444 ?        S    Jun03   0:00 sshd: albert\r\n",
      "root      913363  0.0  0.0  13720  2596 ?        Ss   Jun03   0:00 sshd: albert [priv]\r\n",
      "albert    913526  0.0  0.0  13728  1328 ?        S    Jun03   0:00 sshd: albert\r\n",
      "root      963983  0.0  0.0  13728  2704 ?        Ss   Jun03   0:00 sshd: albert [priv]\r\n",
      "albert    964252  0.0  0.0  13736  1432 ?        S    Jun03   0:00 sshd: albert\r\n",
      "root     1381133  0.0  0.0  13720  2596 ?        Ss   Jul20   0:00 sshd: albert [priv]\r\n",
      "albert   1381472  0.0  0.0  13728  1400 ?        S    Jul20   0:00 sshd: albert\r\n",
      "root     1553795  0.0  0.0  13736  2716 ?        Ss   Aug04   0:00 sshd: albert [priv]\r\n",
      "albert   1554067  0.0  0.0  13744  1352 ?        S    Aug04   0:00 sshd: albert\r\n",
      "albert   1567935  2.1  5.8 40523648 7665320 ?    Ssl  Aug24  52:13 /home/albert/miniconda3/envs/Baikal2/bin/python -m ipykernel_launcher -f /home/albert/.local/share/jupyter/runtime/kernel-89f5eba1-09b8-4727-a001-47b5205de96b.json\r\n",
      "root     1631132  0.0  0.0  13732  2720 ?        Ss   Aug05   0:00 sshd: albert [priv]\r\n",
      "albert   1631398  0.0  0.0  13740  1428 ?        S    Aug05   0:00 sshd: albert\r\n",
      "albert   1696572  112 13.3 63252476 17617860 ?   Ssl  Aug25 1991:12 /home/albert/miniconda3/envs/Baikal2/bin/python -m ipykernel_launcher -f /home/albert/.local/share/jupyter/runtime/kernel-5dfeb01a-863b-48c1-8f23-cffcda6ef044.json\r\n",
      "albert   1726106  0.3  0.3 7461264 467828 ?      Ssl  Aug25   6:23 /home/albert/miniconda3/envs/Baikal2/bin/python -m ipykernel_launcher -f /home/albert/.local/share/jupyter/runtime/kernel-e5ec46d7-02de-4984-ab2f-00c8c3f5c0d3.json\r\n",
      "albert   1726135  0.0  0.0 6708200 17612 ?       Sl   Aug25   1:13 /home/albert/miniconda3/envs/Baikal2/lib/python3.8/site-packages/tensorboard_data_server/bin/server --logdir=../models/logs_tb/ --reload=5 --samples-per-plugin= --port=0 --port-file=/tmp/tensorboard_data_server_jze63464/port --die-after-stdin --error-file=/tmp/tensorboard_data_server_jze63464/startup_error\r\n",
      "root     1754465  0.0  0.0  13736  2724 ?        Ss   Aug06   0:00 sshd: albert [priv]\r\n",
      "albert   1754637  0.0  0.0  13744  1516 ?        S    Aug06   0:00 sshd: albert\r\n",
      "albert   1785999  0.0  0.0 748080 59724 ?        Ssl  Aug25   0:03 /home/albert/miniconda3/envs/Baikal2/bin/python -m ipykernel_launcher -f /home/albert/.local/share/jupyter/runtime/kernel-f0fc772b-72ef-4d08-b8e9-1cc806e15ba5.json\r\n",
      "root     2396200  0.0  0.0  13736  8932 ?        Ss   Aug25   0:00 sshd: albert [priv]\r\n",
      "root     2396204  0.0  0.0  13732  9116 ?        Ss   Aug25   0:00 sshd: albert [priv]\r\n",
      "albert   2396393  0.0  0.0  13740  5332 ?        S    Aug25   0:00 sshd: albert@pts/0\r\n",
      "albert   2396427  0.0  0.0  10132  5424 pts/0    Ss+  Aug25   0:00 -bash\r\n",
      "albert   2396488  0.0  0.0  13744  5388 ?        S    Aug25   0:00 sshd: albert\r\n",
      "albert   2531300  0.0  0.0 748080 59608 ?        Ssl  13:22   0:00 /home/albert/miniconda3/envs/Baikal2/bin/python -m ipykernel_launcher -f /home/albert/.local/share/jupyter/runtime/kernel-cbb434ab-cedf-4078-8f2a-1707c2c40286.json\r\n",
      "albert   2555003 61.0  0.0 748160 59968 ?        Ssl  15:26   0:00 /home/albert/miniconda3/envs/Baikal2/bin/python -m ipykernel_launcher -f /home/albert/.local/share/jupyter/runtime/kernel-2a506fba-ef7d-4555-86e3-f5ac87edf4bb.json\r\n",
      "albert   2555017  0.0  0.0   8688  3204 pts/10   Ss+  15:26   0:00 /bin/bash -c  ps -aux | grep albert\r\n",
      "albert   2555018  0.0  0.0  10880  3700 pts/10   R+   15:26   0:00 ps -aux\r\n",
      "albert   2555019  0.0  0.0   8160  2504 pts/10   S+   15:26   0:00 grep albert\r\n",
      "albert   3336541  0.0  0.0   8812  1284 ?        Ss   Apr21   0:00 SCREEN\r\n",
      "albert   3336542  0.0  0.0  10108  1968 pts/2    Ss+  Apr21   0:00 /bin/bash\r\n",
      "root     3848189  0.0  0.0  13728  2780 ?        Ss   Aug20   0:00 sshd: albert [priv]\r\n",
      "albert   3848462  0.0  0.0  13736  1528 ?        S    Aug20   0:00 sshd: albert\r\n",
      "root     4053183  0.0  0.0  13736  3104 ?        Ss   Aug24   0:00 sshd: albert [priv]\r\n",
      "albert   4053458  0.0  0.0  13744  1668 ?        S    Aug24   0:00 sshd: albert\r\n",
      "albert   4053989  2.4  0.2 913968 275012 ?       Sl   Aug24  67:41 /home/albert/miniconda3/envs/Baikal2/bin/python /home/albert/miniconda3/envs/Baikal2/bin/jupyter-notebook --port=8893\r\n"
     ]
    }
   ],
   "source": [
    "! ps -aux | grep albert"
   ]
  },
  {
   "cell_type": "code",
   "execution_count": 5,
   "id": "8d3e4f3b",
   "metadata": {},
   "outputs": [
    {
     "name": "stdout",
     "output_type": "stream",
     "text": [
      "/bin/bash: /home/albert/miniconda3/envs/Baikal2/lib/libtinfo.so.6: no version information available (required by /bin/bash)\n",
      "Sat Aug 26 19:37:26 2023       \n",
      "+-----------------------------------------------------------------------------+\n",
      "| NVIDIA-SMI 495.29.05    Driver Version: 495.29.05    CUDA Version: 11.5     |\n",
      "|-------------------------------+----------------------+----------------------+\n",
      "| GPU  Name        Persistence-M| Bus-Id        Disp.A | Volatile Uncorr. ECC |\n",
      "| Fan  Temp  Perf  Pwr:Usage/Cap|         Memory-Usage | GPU-Util  Compute M. |\n",
      "|                               |                      |               MIG M. |\n",
      "|===============================+======================+======================|\n",
      "|   0  NVIDIA GeForce ...  On   | 00000000:21:00.0 Off |                  N/A |\n",
      "| 33%   49C    P2   125W / 350W |  13872MiB / 24268MiB |     27%      Default |\n",
      "|                               |                      |                  N/A |\n",
      "+-------------------------------+----------------------+----------------------+\n",
      "|   1  NVIDIA GeForce ...  On   | 00000000:44:00.0 Off |                  N/A |\n",
      "|  0%   56C    P8    45W / 350W |      3MiB / 24268MiB |      0%      Default |\n",
      "|                               |                      |                  N/A |\n",
      "+-------------------------------+----------------------+----------------------+\n",
      "                                                                               \n",
      "+-----------------------------------------------------------------------------+\n",
      "| Processes:                                                                  |\n",
      "|  GPU   GI   CI        PID   Type   Process name                  GPU Memory |\n",
      "|        ID   ID                                                   Usage      |\n",
      "|=============================================================================|\n",
      "|    0   N/A  N/A   1696572      C   ...3/envs/Baikal2/bin/python    13869MiB |\n",
      "+-----------------------------------------------------------------------------+\n",
      "/bin/bash: /home/albert/miniconda3/envs/Baikal2/lib/libtinfo.so.6: no version information available (required by /bin/bash)\n",
      "              total        used        free      shared  buff/cache   available\n",
      "Mem:      131796344    28515560    70226044       44444    33054740   101980796\n",
      "Swap:       8388604     8385556        3048\n"
     ]
    },
    {
     "ename": "KeyboardInterrupt",
     "evalue": "",
     "output_type": "error",
     "traceback": [
      "\u001b[0;31m---------------------------------------------------------------------------\u001b[0m",
      "\u001b[0;31mKeyboardInterrupt\u001b[0m                         Traceback (most recent call last)",
      "Cell \u001b[0;32mIn[5], line 7\u001b[0m\n\u001b[1;32m      5\u001b[0m get_ipython()\u001b[38;5;241m.\u001b[39msystem(\u001b[38;5;124m'\u001b[39m\u001b[38;5;124m nvidia-smi\u001b[39m\u001b[38;5;124m'\u001b[39m)\n\u001b[1;32m      6\u001b[0m get_ipython()\u001b[38;5;241m.\u001b[39msystem(\u001b[38;5;124m'\u001b[39m\u001b[38;5;124m free\u001b[39m\u001b[38;5;124m'\u001b[39m)\n\u001b[0;32m----> 7\u001b[0m \u001b[43mtime\u001b[49m\u001b[38;5;241;43m.\u001b[39;49m\u001b[43msleep\u001b[49m\u001b[43m(\u001b[49m\u001b[38;5;241;43m0.5\u001b[39;49m\u001b[43m)\u001b[49m\n\u001b[1;32m      8\u001b[0m \u001b[38;5;28;01mpass\u001b[39;00m\n",
      "\u001b[0;31mKeyboardInterrupt\u001b[0m: "
     ]
    }
   ],
   "source": [
    "from IPython.display import clear_output\n",
    "import time \n",
    "while True:\n",
    "    clear_output(wait=True)\n",
    "    ! nvidia-smi\n",
    "    ! free\n",
    "    time.sleep(0.5)\n",
    "    pass"
   ]
  },
  {
   "cell_type": "code",
   "execution_count": null,
   "id": "07d65ced",
   "metadata": {},
   "outputs": [],
   "source": [
    "! free"
   ]
  },
  {
   "cell_type": "code",
   "execution_count": null,
   "id": "2c0d92b5",
   "metadata": {},
   "outputs": [],
   "source": [
    "! screen"
   ]
  },
  {
   "cell_type": "code",
   "execution_count": null,
   "id": "c56d7fd8",
   "metadata": {},
   "outputs": [],
   "source": [
    "! ls -l"
   ]
  },
  {
   "cell_type": "code",
   "execution_count": 9,
   "id": "69305c20",
   "metadata": {},
   "outputs": [
    {
     "name": "stdout",
     "output_type": "stream",
     "text": [
      "x = 8\n"
     ]
    }
   ],
   "source": [
    "x = 5\n",
    "print('x =', x+3)"
   ]
  },
  {
   "cell_type": "code",
   "execution_count": 10,
   "id": "ba7c9898",
   "metadata": {},
   "outputs": [
    {
     "data": {
      "text/plain": [
       "5"
      ]
     },
     "execution_count": 10,
     "metadata": {},
     "output_type": "execute_result"
    }
   ],
   "source": [
    "x"
   ]
  },
  {
   "cell_type": "code",
   "execution_count": 13,
   "id": "f85d54f8",
   "metadata": {},
   "outputs": [
    {
     "ename": "AttributeError",
     "evalue": "'dict' object has no attribute 'sorted'",
     "output_type": "error",
     "traceback": [
      "\u001b[0;31m---------------------------------------------------------------------------\u001b[0m",
      "\u001b[0;31mAttributeError\u001b[0m                            Traceback (most recent call last)",
      "Cell \u001b[0;32mIn[13], line 4\u001b[0m\n\u001b[1;32m      2\u001b[0m d\u001b[38;5;241m.\u001b[39mpop(\u001b[38;5;124m'\u001b[39m\u001b[38;5;124m4\u001b[39m\u001b[38;5;124m'\u001b[39m)\n\u001b[1;32m      3\u001b[0m d\u001b[38;5;241m.\u001b[39msetdefault(\u001b[38;5;241m5\u001b[39m,\u001b[38;5;124m'\u001b[39m\u001b[38;5;124mfive\u001b[39m\u001b[38;5;124m'\u001b[39m)\n\u001b[0;32m----> 4\u001b[0m \u001b[43md\u001b[49m\u001b[38;5;241;43m.\u001b[39;49m\u001b[43msorted\u001b[49m()\n",
      "\u001b[0;31mAttributeError\u001b[0m: 'dict' object has no attribute 'sorted'"
     ]
    }
   ],
   "source": []
  },
  {
   "cell_type": "code",
   "execution_count": null,
   "id": "b98607d6",
   "metadata": {},
   "outputs": [],
   "source": []
  }
 ],
 "metadata": {
  "kernelspec": {
   "display_name": "Python 3 (ipykernel)",
   "language": "python",
   "name": "python3"
  },
  "language_info": {
   "codemirror_mode": {
    "name": "ipython",
    "version": 3
   },
   "file_extension": ".py",
   "mimetype": "text/x-python",
   "name": "python",
   "nbconvert_exporter": "python",
   "pygments_lexer": "ipython3",
   "version": "3.8.17"
  }
 },
 "nbformat": 4,
 "nbformat_minor": 5
}
